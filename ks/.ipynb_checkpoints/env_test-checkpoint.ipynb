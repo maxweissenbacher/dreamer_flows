{
 "cells": [
  {
   "cell_type": "code",
   "execution_count": 1,
   "metadata": {},
   "outputs": [
    {
     "ename": "ModuleNotFoundError",
     "evalue": "No module named 'ks'",
     "output_type": "error",
     "traceback": [
      "\u001b[0;31m---------------------------------------------------------------------------\u001b[0m",
      "\u001b[0;31mModuleNotFoundError\u001b[0m                       Traceback (most recent call last)",
      "Cell \u001b[0;32mIn[1], line 1\u001b[0m\n\u001b[0;32m----> 1\u001b[0m \u001b[39mfrom\u001b[39;00m \u001b[39mKS_environment\u001b[39;00m \u001b[39mimport\u001b[39;00m KSenv\n\u001b[1;32m      2\u001b[0m \u001b[39mimport\u001b[39;00m \u001b[39mnumpy\u001b[39;00m \u001b[39mas\u001b[39;00m \u001b[39mnp\u001b[39;00m\n\u001b[1;32m      4\u001b[0m env \u001b[39m=\u001b[39m KSenv(nu\u001b[39m=\u001b[39m\u001b[39m0.08\u001b[39m,\n\u001b[1;32m      5\u001b[0m             actuator_locs\u001b[39m=\u001b[39mnp\u001b[39m.\u001b[39mlinspace(\u001b[39m0.2\u001b[39m, \u001b[39m2\u001b[39m \u001b[39m*\u001b[39m np\u001b[39m.\u001b[39mpi \u001b[39m-\u001b[39m \u001b[39m0.2\u001b[39m, \u001b[39m7\u001b[39m),\u001b[39m#np.array([0.0, np.pi / 4, np.pi / 2, 3 * np.pi / 4]),\u001b[39;00m\n\u001b[1;32m      6\u001b[0m             \u001b[39m# sensor_locs=np.array([0, 2 * np.pi, 64]),\u001b[39;00m\n\u001b[1;32m      7\u001b[0m             burn_in\u001b[39m=\u001b[39m\u001b[39m100\u001b[39m)\n",
      "File \u001b[0;32m~/PhD_projects2/dreamer_flows/ks/KS_environment.py:5\u001b[0m\n\u001b[1;32m      3\u001b[0m \u001b[39mfrom\u001b[39;00m \u001b[39mtyping\u001b[39;00m \u001b[39mimport\u001b[39;00m Optional\n\u001b[1;32m      4\u001b[0m \u001b[39mimport\u001b[39;00m \u001b[39mnumpy\u001b[39;00m \u001b[39mas\u001b[39;00m \u001b[39mnp\u001b[39;00m\n\u001b[0;32m----> 5\u001b[0m \u001b[39mfrom\u001b[39;00m \u001b[39mks\u001b[39;00m\u001b[39m.\u001b[39;00m\u001b[39mKS_solver\u001b[39;00m \u001b[39mimport\u001b[39;00m KS\n\u001b[1;32m      6\u001b[0m \u001b[39mimport\u001b[39;00m \u001b[39mgym\u001b[39;00m\n\u001b[1;32m      7\u001b[0m \u001b[39mfrom\u001b[39;00m \u001b[39mgym\u001b[39;00m \u001b[39mimport\u001b[39;00m spaces\n",
      "\u001b[0;31mModuleNotFoundError\u001b[0m: No module named 'ks'"
     ]
    }
   ],
   "source": [
    "from KS_environment import KSenv\n",
    "import numpy as np\n",
    "\n",
    "env = KSenv(nu=0.08,\n",
    "            actuator_locs=np.linspace(0.2, 2 * np.pi - 0.2, 7),#np.array([0.0, np.pi / 4, np.pi / 2, 3 * np.pi / 4]),\n",
    "            # sensor_locs=np.array([0, 2 * np.pi, 64]),\n",
    "            burn_in=100)"
   ]
  },
  {
   "cell_type": "code",
   "execution_count": null,
   "metadata": {},
   "outputs": [],
   "source": []
  }
 ],
 "metadata": {
  "kernelspec": {
   "display_name": "dreamer_flows",
   "language": "python",
   "name": "python3"
  },
  "language_info": {
   "codemirror_mode": {
    "name": "ipython",
    "version": 3
   },
   "file_extension": ".py",
   "mimetype": "text/x-python",
   "name": "python",
   "nbconvert_exporter": "python",
   "pygments_lexer": "ipython3",
   "version": "3.9.19"
  },
  "orig_nbformat": 4
 },
 "nbformat": 4,
 "nbformat_minor": 2
}
