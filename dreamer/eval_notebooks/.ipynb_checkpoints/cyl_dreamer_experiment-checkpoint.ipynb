{
 "cells": [
  {
   "cell_type": "code",
   "execution_count": 1,
   "metadata": {},
   "outputs": [
    {
     "name": "stderr",
     "output_type": "stream",
     "text": [
      "2024-06-05 17:08:42.668678: W tensorflow/compiler/tf2tensorrt/utils/py_utils.cc:38] TF-TRT Warning: Could not find TensorRT\n"
     ]
    },
    {
     "name": "stdout",
     "output_type": "stream",
     "text": [
      "Reading config\n"
     ]
    }
   ],
   "source": [
    "import warnings\n",
    "import dreamerv3\n",
    "from dreamerv3 import embodied\n",
    "warnings.filterwarnings('ignore', '.*truncated to dtype int32.*')\n",
    "\n",
    "print(\"Reading config\", flush =True)\n",
    "\n",
    "# See configs.yaml for all options.\n",
    "config = embodied.Config(dreamerv3.configs['defaults'])\n",
    "config = config.update(dreamerv3.configs['small'])\n",
    "config = config.update({\n",
    "  'logdir': '~/PhD_projects2/dreamer_flows/dreamer/logdir/notebook_test_cyl_ks_9',\n",
    "  'run.train_ratio': 32,\n",
    "  'run.log_every': 30,  # seconds\n",
    "  'batch_size': 16,\n",
    "  'batch_length': 8,\n",
    "  'jax.prealloc': False,\n",
    "    \n",
    "  'encoder.mlp_keys': 'vector',\n",
    "#   'encoder.mlp_units': 512,\n",
    "\n",
    "  'decoder.mlp_keys': 'vector',\n",
    "#   'decoder.mlp_units': 512,\n",
    "    \n",
    "  'encoder.cnn_keys': '$^',\n",
    "  'decoder.cnn_keys': '$^',\n",
    "    \n",
    "#   'reward_head.units': 512,\n",
    "#   'cont_head.units': 512,\n",
    "    \n",
    "  'model_opt.lr': 1e-4,\n",
    "    \n",
    "  'jax.platform': 'cpu',\n",
    "  'wrapper.length': 0,\n",
    "    \n",
    "  'envs.amount': 8\n",
    "})\n",
    "# config = embodied.Flags(config).parse()\n",
    "\n",
    "logdir = embodied.Path(config.logdir)\n",
    "step = embodied.Counter()\n",
    "logger = embodied.Logger(step, [\n",
    "  embodied.logger.TerminalOutput(),\n",
    "  embodied.logger.JSONLOutput(logdir, 'metrics.jsonl'),\n",
    "  embodied.logger.TensorBoardOutput(logdir),\n",
    "  # embodied.logger.WandBOutput(logdir.name, config),\n",
    "  # embodied.logger.MLFlowOutput(logdir.name),\n",
    "])"
   ]
  },
  {
   "cell_type": "code",
   "execution_count": 5,
   "metadata": {},
   "outputs": [
    {
     "name": "stdout",
     "output_type": "stream",
     "text": [
      "Setting Up Environment\n",
      "Number of probes: 64\n",
      "test cwd env:  /rds/general/user/pg221/home/PhD_projects2/dreamer_flows/dreamer\n",
      "Simulated 185 iterations before starting the control\n",
      "--- done buffers initialisation ---\n"
     ]
    }
   ],
   "source": [
    "import gym\n",
    "from embodied.envs import from_gym\n",
    "\n",
    "from cyl.simulation_base.env import resume_env\n",
    "import numpy as np\n",
    "\n",
    "print(\"Setting Up Environment\", flush =True)\n",
    "sim_log_name = config.logdir.split(\"/\")[-1]\n",
    "env  = resume_env(plot=False, dump_CL=False, dump_vtu=False, dump_debug=10, sim_log_name = sim_log_name)\n"
   ]
  },
  {
   "cell_type": "code",
   "execution_count": 6,
   "metadata": {},
   "outputs": [],
   "source": [
    "env = from_gym.FromGym(env, obs_key='vector')  # Or obs_key='vector'.\n",
    "env = dreamerv3.wrap_env(env, config)\n",
    "env = embodied.BatchEnv([env], parallel=False)"
   ]
  },
  {
   "cell_type": "code",
   "execution_count": 7,
   "metadata": {},
   "outputs": [
    {
     "name": "stdout",
     "output_type": "stream",
     "text": [
      "Encoder CNN shapes: {}\n",
      "Encoder MLP shapes: {'vector': (66,)}\n",
      "Decoder CNN shapes: {}\n",
      "Decoder MLP shapes: {'vector': (66,)}\n"
     ]
    },
    {
     "name": "stderr",
     "output_type": "stream",
     "text": [
      "2024-06-05 17:11:41.077771: E external/local_xla/xla/stream_executor/cuda/cuda_driver.cc:282] failed call to cuInit: CUDA_ERROR_NO_DEVICE: no CUDA-capable device is detected\n"
     ]
    },
    {
     "name": "stdout",
     "output_type": "stream",
     "text": [
      "JAX devices (1): [CpuDevice(id=0)]\n",
      "Policy devices: TFRT_CPU_0\n",
      "Train devices:  TFRT_CPU_0\n",
      "Tracing train function.\n",
      "Optimizer model_opt has 16,553,794 variables.\n",
      "Optimizer actor_opt has 1,052,676 variables.\n",
      "Optimizer critic_opt has 1,181,439 variables.\n"
     ]
    }
   ],
   "source": [
    "agent = dreamerv3.Agent(env.obs_space, env.act_space, step, config)"
   ]
  },
  {
   "cell_type": "code",
   "execution_count": 8,
   "metadata": {},
   "outputs": [],
   "source": [
    "replay = embodied.replay.Uniform(\n",
    "  config.batch_length, config.replay_size, logdir / 'replay')\n",
    "\n",
    "args = embodied.Config(\n",
    "  **config.run, logdir=config.logdir,\n",
    "  batch_steps=config.batch_size * config.batch_length)"
   ]
  },
  {
   "cell_type": "code",
   "execution_count": 9,
   "metadata": {},
   "outputs": [
    {
     "data": {
      "text/plain": [
       "1193"
      ]
     },
     "execution_count": 9,
     "metadata": {},
     "output_type": "execute_result"
    }
   ],
   "source": [
    "len(replay)"
   ]
  },
  {
   "cell_type": "markdown",
   "metadata": {},
   "source": [
    "Train the Model"
   ]
  },
  {
   "cell_type": "code",
   "execution_count": null,
   "metadata": {},
   "outputs": [
    {
     "name": "stdout",
     "output_type": "stream",
     "text": [
      "Logdir /rds/general/user/pg221/home/PhD_projects2/dreamer_flows/dreamer/logdir/notebook_test_cyl_ks_9\n",
      "Observation space:\n",
      "  vector           Space(dtype=float32, shape=(66,), low=-inf, high=inf)\n",
      "  reward           Space(dtype=float32, shape=(), low=-inf, high=inf)\n",
      "  is_first         Space(dtype=bool, shape=(), low=False, high=True)\n",
      "  is_last          Space(dtype=bool, shape=(), low=False, high=True)\n",
      "  is_terminal      Space(dtype=bool, shape=(), low=False, high=True)\n",
      "Action space:\n",
      "  action           Space(dtype=float32, shape=(2,), low=-1.0, high=1.0)\n",
      "  reset            Space(dtype=bool, shape=(), low=False, high=True)\n",
      "Prefill train dataset.\n",
      "len replay in driver:  2386\n",
      "max() in driver:  128\n",
      "Done Prefill train dataset.\n",
      "Found existing checkpoint.\n",
      "Loading checkpoint: /rds/general/user/pg221/home/PhD_projects2/dreamer_flows/dreamer/logdir/notebook_test_cyl_ks_9/checkpoint.ckpt\n",
      "Loaded checkpoint from 11551 seconds ago.\n",
      "Start training loop.\n",
      "step in driver:  0\n",
      "Number of probes: 64\n",
      "test cwd env:  /rds/general/user/pg221/home/PhD_projects2/dreamer_flows/dreamer\n",
      "Simulated 1535 iterations before starting the control\n",
      "Tracing policy function.\n",
      "Tracing policy function.\n",
      "Tracing train function.\n",
      "Tracing report function.\n",
      "Tracing report function.\n"
     ]
    },
    {
     "data": {
      "text/html": [
       "<pre style=\"white-space:pre;overflow-x:auto;line-height:normal;font-family:Menlo,'DejaVu Sans Mono',consolas,'Courier New',monospace\"><span style=\"color: #00ff00; text-decoration-color: #00ff00\">──────────────────────────────────────────────────── </span><span style=\"color: #008000; text-decoration-color: #008000; font-weight: bold\">Step </span><span style=\"color: #008000; text-decoration-color: #008000; font-weight: bold\">601</span><span style=\"color: #00ff00; text-decoration-color: #00ff00\"> ─────────────────────────────────────────────────────</span>\n",
       "</pre>\n"
      ],
      "text/plain": [
       "\u001b[92m──────────────────────────────────────────────────── \u001b[0m\u001b[1;32mStep \u001b[0m\u001b[1;32m601\u001b[0m\u001b[92m ─────────────────────────────────────────────────────\u001b[0m\n"
      ]
     },
     "metadata": {},
     "output_type": "display_data"
    },
    {
     "data": {
      "text/html": [
       "<pre style=\"white-space:pre;overflow-x:auto;line-height:normal;font-family:Menlo,'DejaVu Sans Mono',consolas,'Courier New',monospace\">train/action_mag <span style=\"color: #008080; text-decoration-color: #008080; font-weight: bold\">4.12</span> <span style=\"color: #000080; text-decoration-color: #000080\">/</span> train/action_max <span style=\"color: #008080; text-decoration-color: #008080; font-weight: bold\">4.12</span> <span style=\"color: #000080; text-decoration-color: #000080\">/</span> train/action_mean <span style=\"color: #008080; text-decoration-color: #008080; font-weight: bold\">0.02</span> <span style=\"color: #000080; text-decoration-color: #000080\">/</span> train/action_min <span style=\"color: #008080; text-decoration-color: #008080; font-weight: bold\">-3.92</span> <span style=\"color: #000080; text-decoration-color: #000080\">/</span> train/action_std \n",
       "<span style=\"color: #008080; text-decoration-color: #008080; font-weight: bold\">1.32</span> <span style=\"color: #000080; text-decoration-color: #000080\">/</span> train/actor_opt_actor_opt_grad_overflow <span style=\"color: #008080; text-decoration-color: #008080; font-weight: bold\">0</span> <span style=\"color: #000080; text-decoration-color: #000080\">/</span> train/actor_opt_actor_opt_grad_scale <span style=\"color: #008080; text-decoration-color: #008080; font-weight: bold\">1e4</span> <span style=\"color: #000080; text-decoration-color: #000080\">/</span> \n",
       "train/actor_opt_grad_norm <span style=\"color: #008080; text-decoration-color: #008080; font-weight: bold\">2.5e-4</span> <span style=\"color: #000080; text-decoration-color: #000080\">/</span> train/actor_opt_grad_steps <span style=\"color: #008080; text-decoration-color: #008080; font-weight: bold\">101</span> <span style=\"color: #000080; text-decoration-color: #000080\">/</span> train/actor_opt_loss <span style=\"color: #008080; text-decoration-color: #008080; font-weight: bold\">1212.1</span> <span style=\"color: #000080; text-decoration-color: #000080\">/</span> train/adv_mag \n",
       "<span style=\"color: #008080; text-decoration-color: #008080; font-weight: bold\">0.21</span> <span style=\"color: #000080; text-decoration-color: #000080\">/</span> train/adv_max <span style=\"color: #008080; text-decoration-color: #008080; font-weight: bold\">-0.02</span> <span style=\"color: #000080; text-decoration-color: #000080\">/</span> train/adv_mean <span style=\"color: #008080; text-decoration-color: #008080; font-weight: bold\">-0.12</span> <span style=\"color: #000080; text-decoration-color: #000080\">/</span> train/adv_min <span style=\"color: #008080; text-decoration-color: #008080; font-weight: bold\">-0.21</span> <span style=\"color: #000080; text-decoration-color: #000080\">/</span> train/adv_std <span style=\"color: #008080; text-decoration-color: #008080; font-weight: bold\">0.06</span> <span style=\"color: #000080; text-decoration-color: #000080\">/</span> train/cont_avg <span style=\"color: #008080; text-decoration-color: #008080; font-weight: bold\">0.99</span> \n",
       "<span style=\"color: #000080; text-decoration-color: #000080\">/</span> train/cont_loss_mean <span style=\"color: #008080; text-decoration-color: #008080; font-weight: bold\">0.05</span> <span style=\"color: #000080; text-decoration-color: #000080\">/</span> train/cont_loss_std <span style=\"color: #008080; text-decoration-color: #008080; font-weight: bold\">0.48</span> <span style=\"color: #000080; text-decoration-color: #000080\">/</span> train/cont_neg_acc <span style=\"color: #008080; text-decoration-color: #008080; font-weight: bold\">0</span> <span style=\"color: #000080; text-decoration-color: #000080\">/</span> train/cont_neg_loss <span style=\"color: #008080; text-decoration-color: #008080; font-weight: bold\">5.5</span> <span style=\"color: #000080; text-decoration-color: #000080\">/</span> \n",
       "train/cont_pos_acc <span style=\"color: #008080; text-decoration-color: #008080; font-weight: bold\">1</span> <span style=\"color: #000080; text-decoration-color: #000080\">/</span> train/cont_pos_loss <span style=\"color: #008080; text-decoration-color: #008080; font-weight: bold\">3.7e-3</span> <span style=\"color: #000080; text-decoration-color: #000080\">/</span> train/cont_pred <span style=\"color: #008080; text-decoration-color: #008080; font-weight: bold\">1</span> <span style=\"color: #000080; text-decoration-color: #000080\">/</span> train/cont_rate <span style=\"color: #008080; text-decoration-color: #008080; font-weight: bold\">0.99</span> <span style=\"color: #000080; text-decoration-color: #000080\">/</span> train/dyn_loss_mean \n",
       "<span style=\"color: #008080; text-decoration-color: #008080; font-weight: bold\">1</span> <span style=\"color: #000080; text-decoration-color: #000080\">/</span> train/dyn_loss_std <span style=\"color: #008080; text-decoration-color: #008080; font-weight: bold\">0</span> <span style=\"color: #000080; text-decoration-color: #000080\">/</span> train/extr_critic_critic_opt_critic_opt_grad_overflow <span style=\"color: #008080; text-decoration-color: #008080; font-weight: bold\">0</span> <span style=\"color: #000080; text-decoration-color: #000080\">/</span> \n",
       "train/extr_critic_critic_opt_critic_opt_grad_scale <span style=\"color: #008080; text-decoration-color: #008080; font-weight: bold\">1e4</span> <span style=\"color: #000080; text-decoration-color: #000080\">/</span> train/extr_critic_critic_opt_grad_norm <span style=\"color: #008080; text-decoration-color: #008080; font-weight: bold\">18.18</span> <span style=\"color: #000080; text-decoration-color: #000080\">/</span> \n",
       "train/extr_critic_critic_opt_grad_steps <span style=\"color: #008080; text-decoration-color: #008080; font-weight: bold\">101</span> <span style=\"color: #000080; text-decoration-color: #000080\">/</span> train/extr_critic_critic_opt_loss <span style=\"color: #008080; text-decoration-color: #008080; font-weight: bold\">7.7e4</span> <span style=\"color: #000080; text-decoration-color: #000080\">/</span> train/extr_critic_mag \n",
       "<span style=\"color: #008080; text-decoration-color: #008080; font-weight: bold\">3.6e-3</span> <span style=\"color: #000080; text-decoration-color: #000080\">/</span> train/extr_critic_max <span style=\"color: #008080; text-decoration-color: #008080; font-weight: bold\">-3.1e-3</span> <span style=\"color: #000080; text-decoration-color: #000080\">/</span> train/extr_critic_mean <span style=\"color: #008080; text-decoration-color: #008080; font-weight: bold\">-3.5e-3</span> <span style=\"color: #000080; text-decoration-color: #000080\">/</span> train/extr_critic_min <span style=\"color: #008080; text-decoration-color: #008080; font-weight: bold\">-3.6e-3</span> <span style=\"color: #000080; text-decoration-color: #000080\">/</span> \n",
       "train/extr_critic_std <span style=\"color: #008080; text-decoration-color: #008080; font-weight: bold\">4.5e-5</span> <span style=\"color: #000080; text-decoration-color: #000080\">/</span> train/extr_return_normed_mag <span style=\"color: #008080; text-decoration-color: #008080; font-weight: bold\">0.13</span> <span style=\"color: #000080; text-decoration-color: #000080\">/</span> train/extr_return_normed_max <span style=\"color: #008080; text-decoration-color: #008080; font-weight: bold\">0.06</span> <span style=\"color: #000080; text-decoration-color: #000080\">/</span> \n",
       "train/extr_return_normed_mean <span style=\"color: #008080; text-decoration-color: #008080; font-weight: bold\">-0.05</span> <span style=\"color: #000080; text-decoration-color: #000080\">/</span> train/extr_return_normed_min <span style=\"color: #008080; text-decoration-color: #008080; font-weight: bold\">-0.13</span> <span style=\"color: #000080; text-decoration-color: #000080\">/</span> train/extr_return_normed_std <span style=\"color: #008080; text-decoration-color: #008080; font-weight: bold\">0.06</span> <span style=\"color: #000080; text-decoration-color: #000080\">/</span> \n",
       "train/extr_return_rate <span style=\"color: #008080; text-decoration-color: #008080; font-weight: bold\">0</span> <span style=\"color: #000080; text-decoration-color: #000080\">/</span> train/extr_return_raw_mag <span style=\"color: #008080; text-decoration-color: #008080; font-weight: bold\">0.21</span> <span style=\"color: #000080; text-decoration-color: #000080\">/</span> train/extr_return_raw_max <span style=\"color: #008080; text-decoration-color: #008080; font-weight: bold\">-0.02</span> <span style=\"color: #000080; text-decoration-color: #000080\">/</span> \n",
       "train/extr_return_raw_mean <span style=\"color: #008080; text-decoration-color: #008080; font-weight: bold\">-0.13</span> <span style=\"color: #000080; text-decoration-color: #000080\">/</span> train/extr_return_raw_min <span style=\"color: #008080; text-decoration-color: #008080; font-weight: bold\">-0.21</span> <span style=\"color: #000080; text-decoration-color: #000080\">/</span> train/extr_return_raw_std <span style=\"color: #008080; text-decoration-color: #008080; font-weight: bold\">0.06</span> <span style=\"color: #000080; text-decoration-color: #000080\">/</span> \n",
       "train/extr_reward_mag <span style=\"color: #008080; text-decoration-color: #008080; font-weight: bold\">0.02</span> <span style=\"color: #000080; text-decoration-color: #000080\">/</span> train/extr_reward_max <span style=\"color: #008080; text-decoration-color: #008080; font-weight: bold\">-0.02</span> <span style=\"color: #000080; text-decoration-color: #000080\">/</span> train/extr_reward_mean <span style=\"color: #008080; text-decoration-color: #008080; font-weight: bold\">-0.02</span> <span style=\"color: #000080; text-decoration-color: #000080\">/</span> train/extr_reward_min \n",
       "<span style=\"color: #008080; text-decoration-color: #008080; font-weight: bold\">-0.02</span> <span style=\"color: #000080; text-decoration-color: #000080\">/</span> train/extr_reward_std <span style=\"color: #008080; text-decoration-color: #008080; font-weight: bold\">2.2e-5</span> <span style=\"color: #000080; text-decoration-color: #000080\">/</span> train/model_loss_mean <span style=\"color: #008080; text-decoration-color: #008080; font-weight: bold\">1.84</span> <span style=\"color: #000080; text-decoration-color: #000080\">/</span> train/model_loss_std <span style=\"color: #008080; text-decoration-color: #008080; font-weight: bold\">0.52</span> <span style=\"color: #000080; text-decoration-color: #000080\">/</span> \n",
       "train/model_opt_grad_norm <span style=\"color: #008080; text-decoration-color: #008080; font-weight: bold\">7.85</span> <span style=\"color: #000080; text-decoration-color: #000080\">/</span> train/model_opt_grad_steps <span style=\"color: #008080; text-decoration-color: #008080; font-weight: bold\">101</span> <span style=\"color: #000080; text-decoration-color: #000080\">/</span> train/model_opt_loss <span style=\"color: #008080; text-decoration-color: #008080; font-weight: bold\">1.8e4</span> <span style=\"color: #000080; text-decoration-color: #000080\">/</span> \n",
       "train/model_opt_model_opt_grad_overflow <span style=\"color: #008080; text-decoration-color: #008080; font-weight: bold\">0</span> <span style=\"color: #000080; text-decoration-color: #000080\">/</span> train/model_opt_model_opt_grad_scale <span style=\"color: #008080; text-decoration-color: #008080; font-weight: bold\">1e4</span> <span style=\"color: #000080; text-decoration-color: #000080\">/</span> train/policy_entropy_mag \n",
       "<span style=\"color: #008080; text-decoration-color: #008080; font-weight: bold\">2.83</span> <span style=\"color: #000080; text-decoration-color: #000080\">/</span> train/policy_entropy_max <span style=\"color: #008080; text-decoration-color: #008080; font-weight: bold\">2.83</span> <span style=\"color: #000080; text-decoration-color: #000080\">/</span> train/policy_entropy_mean <span style=\"color: #008080; text-decoration-color: #008080; font-weight: bold\">2.81</span> <span style=\"color: #000080; text-decoration-color: #000080\">/</span> train/policy_entropy_min <span style=\"color: #008080; text-decoration-color: #008080; font-weight: bold\">2.7</span> <span style=\"color: #000080; text-decoration-color: #000080\">/</span> \n",
       "train/policy_entropy_std <span style=\"color: #008080; text-decoration-color: #008080; font-weight: bold\">0.01</span> <span style=\"color: #000080; text-decoration-color: #000080\">/</span> train/policy_logprob_mag <span style=\"color: #008080; text-decoration-color: #008080; font-weight: bold\">11.4</span> <span style=\"color: #000080; text-decoration-color: #000080\">/</span> train/policy_logprob_max <span style=\"color: #008080; text-decoration-color: #008080; font-weight: bold\">-1.74</span> <span style=\"color: #000080; text-decoration-color: #000080\">/</span> \n",
       "train/policy_logprob_mean <span style=\"color: #008080; text-decoration-color: #008080; font-weight: bold\">-2.77</span> <span style=\"color: #000080; text-decoration-color: #000080\">/</span> train/policy_logprob_min <span style=\"color: #008080; text-decoration-color: #008080; font-weight: bold\">-11.4</span> <span style=\"color: #000080; text-decoration-color: #000080\">/</span> train/policy_logprob_std <span style=\"color: #008080; text-decoration-color: #008080; font-weight: bold\">0.97</span> <span style=\"color: #000080; text-decoration-color: #000080\">/</span> \n",
       "train/policy_randomness_mag <span style=\"color: #008080; text-decoration-color: #008080; font-weight: bold\">1</span> <span style=\"color: #000080; text-decoration-color: #000080\">/</span> train/policy_randomness_max <span style=\"color: #008080; text-decoration-color: #008080; font-weight: bold\">1</span> <span style=\"color: #000080; text-decoration-color: #000080\">/</span> train/policy_randomness_mean <span style=\"color: #008080; text-decoration-color: #008080; font-weight: bold\">0.99</span> <span style=\"color: #000080; text-decoration-color: #000080\">/</span> \n",
       "train/policy_randomness_min <span style=\"color: #008080; text-decoration-color: #008080; font-weight: bold\">0.97</span> <span style=\"color: #000080; text-decoration-color: #000080\">/</span> train/policy_randomness_std <span style=\"color: #008080; text-decoration-color: #008080; font-weight: bold\">2.5e-3</span> <span style=\"color: #000080; text-decoration-color: #000080\">/</span> train/post_ent_mag <span style=\"color: #008080; text-decoration-color: #008080; font-weight: bold\">106.2</span> <span style=\"color: #000080; text-decoration-color: #000080\">/</span> \n",
       "train/post_ent_max <span style=\"color: #008080; text-decoration-color: #008080; font-weight: bold\">106.2</span> <span style=\"color: #000080; text-decoration-color: #000080\">/</span> train/post_ent_mean <span style=\"color: #008080; text-decoration-color: #008080; font-weight: bold\">106.07</span> <span style=\"color: #000080; text-decoration-color: #000080\">/</span> train/post_ent_min <span style=\"color: #008080; text-decoration-color: #008080; font-weight: bold\">105.98</span> <span style=\"color: #000080; text-decoration-color: #000080\">/</span> train/post_ent_std <span style=\"color: #008080; text-decoration-color: #008080; font-weight: bold\">0.05</span> <span style=\"color: #000080; text-decoration-color: #000080\">/</span> \n",
       "train/prior_ent_mag <span style=\"color: #008080; text-decoration-color: #008080; font-weight: bold\">106.64</span> <span style=\"color: #000080; text-decoration-color: #000080\">/</span> train/prior_ent_max <span style=\"color: #008080; text-decoration-color: #008080; font-weight: bold\">106.64</span> <span style=\"color: #000080; text-decoration-color: #000080\">/</span> train/prior_ent_mean <span style=\"color: #008080; text-decoration-color: #008080; font-weight: bold\">106.39</span> <span style=\"color: #000080; text-decoration-color: #000080\">/</span> train/prior_ent_min <span style=\"color: #008080; text-decoration-color: #008080; font-weight: bold\">106.15</span> \n",
       "<span style=\"color: #000080; text-decoration-color: #000080\">/</span> train/prior_ent_std <span style=\"color: #008080; text-decoration-color: #008080; font-weight: bold\">0.11</span> <span style=\"color: #000080; text-decoration-color: #000080\">/</span> train/rep_loss_mean <span style=\"color: #008080; text-decoration-color: #008080; font-weight: bold\">1</span> <span style=\"color: #000080; text-decoration-color: #000080\">/</span> train/rep_loss_std <span style=\"color: #008080; text-decoration-color: #008080; font-weight: bold\">0</span> <span style=\"color: #000080; text-decoration-color: #000080\">/</span> train/reward_avg <span style=\"color: #008080; text-decoration-color: #008080; font-weight: bold\">-0.02</span> <span style=\"color: #000080; text-decoration-color: #000080\">/</span> \n",
       "train/reward_loss_mean <span style=\"color: #008080; text-decoration-color: #008080; font-weight: bold\">1.04</span> <span style=\"color: #000080; text-decoration-color: #000080\">/</span> train/reward_loss_std <span style=\"color: #008080; text-decoration-color: #008080; font-weight: bold\">0.12</span> <span style=\"color: #000080; text-decoration-color: #000080\">/</span> train/reward_max_data <span style=\"color: #008080; text-decoration-color: #008080; font-weight: bold\">0.1</span> <span style=\"color: #000080; text-decoration-color: #000080\">/</span> train/reward_max_pred <span style=\"color: #008080; text-decoration-color: #008080; font-weight: bold\">0.02</span> <span style=\"color: #000080; text-decoration-color: #000080\">/</span>\n",
       "train/reward_neg_acc <span style=\"color: #008080; text-decoration-color: #008080; font-weight: bold\">1</span> <span style=\"color: #000080; text-decoration-color: #000080\">/</span> train/reward_neg_loss <span style=\"color: #008080; text-decoration-color: #008080; font-weight: bold\">1.04</span> <span style=\"color: #000080; text-decoration-color: #000080\">/</span> train/reward_pos_acc nan <span style=\"color: #000080; text-decoration-color: #000080\">/</span> train/reward_pos_loss nan <span style=\"color: #000080; text-decoration-color: #000080\">/</span> \n",
       "train/reward_pred <span style=\"color: #008080; text-decoration-color: #008080; font-weight: bold\">-0.02</span> <span style=\"color: #000080; text-decoration-color: #000080\">/</span> train/reward_rate <span style=\"color: #008080; text-decoration-color: #008080; font-weight: bold\">0</span> <span style=\"color: #000080; text-decoration-color: #000080\">/</span> train/vector_loss_mean <span style=\"color: #008080; text-decoration-color: #008080; font-weight: bold\">0.15</span> <span style=\"color: #000080; text-decoration-color: #000080\">/</span> train/vector_loss_std <span style=\"color: #008080; text-decoration-color: #008080; font-weight: bold\">0.09</span> <span style=\"color: #000080; text-decoration-color: #000080\">/</span> \n",
       "train/params_agent/wm/model_opt <span style=\"color: #008080; text-decoration-color: #008080; font-weight: bold\">1.7e7</span> <span style=\"color: #000080; text-decoration-color: #000080\">/</span> train/params_agent/task_behavior/critic/critic_opt <span style=\"color: #008080; text-decoration-color: #008080; font-weight: bold\">1.2e6</span> <span style=\"color: #000080; text-decoration-color: #000080\">/</span> \n",
       "train/params_agent/task_behavior/ac/actor_opt <span style=\"color: #008080; text-decoration-color: #008080; font-weight: bold\">1.1e6</span> <span style=\"color: #000080; text-decoration-color: #000080\">/</span> replay/size <span style=\"color: #008080; text-decoration-color: #008080; font-weight: bold\">3579</span> <span style=\"color: #000080; text-decoration-color: #000080\">/</span> replay/inserts <span style=\"color: #008080; text-decoration-color: #008080; font-weight: bold\">0</span> <span style=\"color: #000080; text-decoration-color: #000080\">/</span> replay/samples <span style=\"color: #008080; text-decoration-color: #008080; font-weight: bold\">208</span> <span style=\"color: #000080; text-decoration-color: #000080\">/</span> \n",
       "replay/insert_wait_avg nan <span style=\"color: #000080; text-decoration-color: #000080\">/</span> replay/insert_wait_frac nan <span style=\"color: #000080; text-decoration-color: #000080\">/</span> replay/sample_wait_avg <span style=\"color: #008080; text-decoration-color: #008080; font-weight: bold\">1.3e-6</span> <span style=\"color: #000080; text-decoration-color: #000080\">/</span> replay/sample_wait_frac \n",
       "<span style=\"color: #008080; text-decoration-color: #008080; font-weight: bold\">1</span> <span style=\"color: #000080; text-decoration-color: #000080\">/</span> timer/duration <span style=\"color: #008080; text-decoration-color: #008080; font-weight: bold\">168.52</span> <span style=\"color: #000080; text-decoration-color: #000080\">/</span> timer/logger.write_count <span style=\"color: #008080; text-decoration-color: #008080; font-weight: bold\">1</span> <span style=\"color: #000080; text-decoration-color: #000080\">/</span> timer/logger.write_total <span style=\"color: #008080; text-decoration-color: #008080; font-weight: bold\">1.1e-5</span> <span style=\"color: #000080; text-decoration-color: #000080\">/</span> timer/logger.write_frac \n",
       "<span style=\"color: #008080; text-decoration-color: #008080; font-weight: bold\">6.5e-8</span> <span style=\"color: #000080; text-decoration-color: #000080\">/</span> timer/logger.write_avg <span style=\"color: #008080; text-decoration-color: #008080; font-weight: bold\">1.1e-5</span> <span style=\"color: #000080; text-decoration-color: #000080\">/</span> timer/logger.write_min <span style=\"color: #008080; text-decoration-color: #008080; font-weight: bold\">1.1e-5</span> <span style=\"color: #000080; text-decoration-color: #000080\">/</span> timer/logger.write_max <span style=\"color: #008080; text-decoration-color: #008080; font-weight: bold\">1.1e-5</span> <span style=\"color: #000080; text-decoration-color: #000080\">/</span> \n",
       "timer/replay.add_count <span style=\"color: #008080; text-decoration-color: #008080; font-weight: bold\">1201</span> <span style=\"color: #000080; text-decoration-color: #000080\">/</span> timer/replay.add_total <span style=\"color: #008080; text-decoration-color: #008080; font-weight: bold\">0.03</span> <span style=\"color: #000080; text-decoration-color: #000080\">/</span> timer/replay.add_frac <span style=\"color: #008080; text-decoration-color: #008080; font-weight: bold\">1.8e-4</span> <span style=\"color: #000080; text-decoration-color: #000080\">/</span> timer/replay.add_avg \n",
       "<span style=\"color: #008080; text-decoration-color: #008080; font-weight: bold\">2.6e-5</span> <span style=\"color: #000080; text-decoration-color: #000080\">/</span> timer/replay.add_min <span style=\"color: #008080; text-decoration-color: #008080; font-weight: bold\">7.6e-6</span> <span style=\"color: #000080; text-decoration-color: #000080\">/</span> timer/replay.add_max <span style=\"color: #008080; text-decoration-color: #008080; font-weight: bold\">4.3e-4</span> <span style=\"color: #000080; text-decoration-color: #000080\">/</span> timer/checkpoint.load_count <span style=\"color: #008080; text-decoration-color: #008080; font-weight: bold\">1</span> <span style=\"color: #000080; text-decoration-color: #000080\">/</span> \n",
       "timer/checkpoint.load_total <span style=\"color: #008080; text-decoration-color: #008080; font-weight: bold\">0.17</span> <span style=\"color: #000080; text-decoration-color: #000080\">/</span> timer/checkpoint.load_frac <span style=\"color: #008080; text-decoration-color: #008080; font-weight: bold\">1e-3</span> <span style=\"color: #000080; text-decoration-color: #000080\">/</span> timer/checkpoint.load_avg <span style=\"color: #008080; text-decoration-color: #008080; font-weight: bold\">0.17</span> <span style=\"color: #000080; text-decoration-color: #000080\">/</span> \n",
       "timer/checkpoint.load_min <span style=\"color: #008080; text-decoration-color: #008080; font-weight: bold\">0.17</span> <span style=\"color: #000080; text-decoration-color: #000080\">/</span> timer/checkpoint.load_max <span style=\"color: #008080; text-decoration-color: #008080; font-weight: bold\">0.17</span> <span style=\"color: #000080; text-decoration-color: #000080\">/</span> timer/env.step_count <span style=\"color: #008080; text-decoration-color: #008080; font-weight: bold\">1</span> <span style=\"color: #000080; text-decoration-color: #000080\">/</span> timer/env.step_total \n",
       "<span style=\"color: #008080; text-decoration-color: #008080; font-weight: bold\">102.08</span> <span style=\"color: #000080; text-decoration-color: #000080\">/</span> timer/env.step_frac <span style=\"color: #008080; text-decoration-color: #008080; font-weight: bold\">0.61</span> <span style=\"color: #000080; text-decoration-color: #000080\">/</span> timer/env.step_avg <span style=\"color: #008080; text-decoration-color: #008080; font-weight: bold\">102.08</span> <span style=\"color: #000080; text-decoration-color: #000080\">/</span> timer/env.step_min <span style=\"color: #008080; text-decoration-color: #008080; font-weight: bold\">102.08</span> <span style=\"color: #000080; text-decoration-color: #000080\">/</span> timer/env.step_max \n",
       "<span style=\"color: #008080; text-decoration-color: #008080; font-weight: bold\">102.08</span> <span style=\"color: #000080; text-decoration-color: #000080\">/</span> timer/agent.policy_count <span style=\"color: #008080; text-decoration-color: #008080; font-weight: bold\">1</span> <span style=\"color: #000080; text-decoration-color: #000080\">/</span> timer/agent.policy_total <span style=\"color: #008080; text-decoration-color: #008080; font-weight: bold\">3.92</span> <span style=\"color: #000080; text-decoration-color: #000080\">/</span> timer/agent.policy_frac <span style=\"color: #008080; text-decoration-color: #008080; font-weight: bold\">0.02</span> <span style=\"color: #000080; text-decoration-color: #000080\">/</span> \n",
       "timer/agent.policy_avg <span style=\"color: #008080; text-decoration-color: #008080; font-weight: bold\">3.92</span> <span style=\"color: #000080; text-decoration-color: #000080\">/</span> timer/agent.policy_min <span style=\"color: #008080; text-decoration-color: #008080; font-weight: bold\">3.92</span> <span style=\"color: #000080; text-decoration-color: #000080\">/</span> timer/agent.policy_max <span style=\"color: #008080; text-decoration-color: #008080; font-weight: bold\">3.92</span> <span style=\"color: #000080; text-decoration-color: #000080\">/</span> timer/dataset_count <span style=\"color: #008080; text-decoration-color: #008080; font-weight: bold\">1</span> <span style=\"color: #000080; text-decoration-color: #000080\">/</span> \n",
       "timer/dataset_total <span style=\"color: #008080; text-decoration-color: #008080; font-weight: bold\">4.7e-5</span> <span style=\"color: #000080; text-decoration-color: #000080\">/</span> timer/dataset_frac <span style=\"color: #008080; text-decoration-color: #008080; font-weight: bold\">2.8e-7</span> <span style=\"color: #000080; text-decoration-color: #000080\">/</span> timer/dataset_avg <span style=\"color: #008080; text-decoration-color: #008080; font-weight: bold\">4.7e-5</span> <span style=\"color: #000080; text-decoration-color: #000080\">/</span> timer/dataset_min <span style=\"color: #008080; text-decoration-color: #008080; font-weight: bold\">4.7e-5</span> <span style=\"color: #000080; text-decoration-color: #000080\">/</span> \n",
       "timer/dataset_max <span style=\"color: #008080; text-decoration-color: #008080; font-weight: bold\">4.7e-5</span> <span style=\"color: #000080; text-decoration-color: #000080\">/</span> timer/agent.train_count <span style=\"color: #008080; text-decoration-color: #008080; font-weight: bold\">1</span> <span style=\"color: #000080; text-decoration-color: #000080\">/</span> timer/agent.train_total <span style=\"color: #008080; text-decoration-color: #008080; font-weight: bold\">55.16</span> <span style=\"color: #000080; text-decoration-color: #000080\">/</span> timer/agent.train_frac <span style=\"color: #008080; text-decoration-color: #008080; font-weight: bold\">0.33</span> \n",
       "<span style=\"color: #000080; text-decoration-color: #000080\">/</span> timer/agent.train_avg <span style=\"color: #008080; text-decoration-color: #008080; font-weight: bold\">55.16</span> <span style=\"color: #000080; text-decoration-color: #000080\">/</span> timer/agent.train_min <span style=\"color: #008080; text-decoration-color: #008080; font-weight: bold\">55.16</span> <span style=\"color: #000080; text-decoration-color: #000080\">/</span> timer/agent.train_max <span style=\"color: #008080; text-decoration-color: #008080; font-weight: bold\">55.16</span> <span style=\"color: #000080; text-decoration-color: #000080\">/</span> \n",
       "timer/agent.report_count <span style=\"color: #008080; text-decoration-color: #008080; font-weight: bold\">1</span> <span style=\"color: #000080; text-decoration-color: #000080\">/</span> timer/agent.report_total <span style=\"color: #008080; text-decoration-color: #008080; font-weight: bold\">7.18</span> <span style=\"color: #000080; text-decoration-color: #000080\">/</span> timer/agent.report_frac <span style=\"color: #008080; text-decoration-color: #008080; font-weight: bold\">0.04</span> <span style=\"color: #000080; text-decoration-color: #000080\">/</span> timer/agent.report_avg \n",
       "<span style=\"color: #008080; text-decoration-color: #008080; font-weight: bold\">7.18</span> <span style=\"color: #000080; text-decoration-color: #000080\">/</span> timer/agent.report_min <span style=\"color: #008080; text-decoration-color: #008080; font-weight: bold\">7.18</span> <span style=\"color: #000080; text-decoration-color: #000080\">/</span> timer/agent.report_max <span style=\"color: #008080; text-decoration-color: #008080; font-weight: bold\">7.18</span>\n",
       "</pre>\n"
      ],
      "text/plain": [
       "train/action_mag \u001b[1;36m4.12\u001b[0m \u001b[34m/\u001b[0m train/action_max \u001b[1;36m4.12\u001b[0m \u001b[34m/\u001b[0m train/action_mean \u001b[1;36m0.02\u001b[0m \u001b[34m/\u001b[0m train/action_min \u001b[1;36m-3.92\u001b[0m \u001b[34m/\u001b[0m train/action_std \n",
       "\u001b[1;36m1.32\u001b[0m \u001b[34m/\u001b[0m train/actor_opt_actor_opt_grad_overflow \u001b[1;36m0\u001b[0m \u001b[34m/\u001b[0m train/actor_opt_actor_opt_grad_scale \u001b[1;36m1e4\u001b[0m \u001b[34m/\u001b[0m \n",
       "train/actor_opt_grad_norm \u001b[1;36m2.5e-4\u001b[0m \u001b[34m/\u001b[0m train/actor_opt_grad_steps \u001b[1;36m101\u001b[0m \u001b[34m/\u001b[0m train/actor_opt_loss \u001b[1;36m1212.1\u001b[0m \u001b[34m/\u001b[0m train/adv_mag \n",
       "\u001b[1;36m0.21\u001b[0m \u001b[34m/\u001b[0m train/adv_max \u001b[1;36m-0.02\u001b[0m \u001b[34m/\u001b[0m train/adv_mean \u001b[1;36m-0.12\u001b[0m \u001b[34m/\u001b[0m train/adv_min \u001b[1;36m-0.21\u001b[0m \u001b[34m/\u001b[0m train/adv_std \u001b[1;36m0.06\u001b[0m \u001b[34m/\u001b[0m train/cont_avg \u001b[1;36m0.99\u001b[0m \n",
       "\u001b[34m/\u001b[0m train/cont_loss_mean \u001b[1;36m0.05\u001b[0m \u001b[34m/\u001b[0m train/cont_loss_std \u001b[1;36m0.48\u001b[0m \u001b[34m/\u001b[0m train/cont_neg_acc \u001b[1;36m0\u001b[0m \u001b[34m/\u001b[0m train/cont_neg_loss \u001b[1;36m5.5\u001b[0m \u001b[34m/\u001b[0m \n",
       "train/cont_pos_acc \u001b[1;36m1\u001b[0m \u001b[34m/\u001b[0m train/cont_pos_loss \u001b[1;36m3.7e-3\u001b[0m \u001b[34m/\u001b[0m train/cont_pred \u001b[1;36m1\u001b[0m \u001b[34m/\u001b[0m train/cont_rate \u001b[1;36m0.99\u001b[0m \u001b[34m/\u001b[0m train/dyn_loss_mean \n",
       "\u001b[1;36m1\u001b[0m \u001b[34m/\u001b[0m train/dyn_loss_std \u001b[1;36m0\u001b[0m \u001b[34m/\u001b[0m train/extr_critic_critic_opt_critic_opt_grad_overflow \u001b[1;36m0\u001b[0m \u001b[34m/\u001b[0m \n",
       "train/extr_critic_critic_opt_critic_opt_grad_scale \u001b[1;36m1e4\u001b[0m \u001b[34m/\u001b[0m train/extr_critic_critic_opt_grad_norm \u001b[1;36m18.18\u001b[0m \u001b[34m/\u001b[0m \n",
       "train/extr_critic_critic_opt_grad_steps \u001b[1;36m101\u001b[0m \u001b[34m/\u001b[0m train/extr_critic_critic_opt_loss \u001b[1;36m7.7e4\u001b[0m \u001b[34m/\u001b[0m train/extr_critic_mag \n",
       "\u001b[1;36m3.6e-3\u001b[0m \u001b[34m/\u001b[0m train/extr_critic_max \u001b[1;36m-3.1e-3\u001b[0m \u001b[34m/\u001b[0m train/extr_critic_mean \u001b[1;36m-3.5e-3\u001b[0m \u001b[34m/\u001b[0m train/extr_critic_min \u001b[1;36m-3.6e-3\u001b[0m \u001b[34m/\u001b[0m \n",
       "train/extr_critic_std \u001b[1;36m4.5e-5\u001b[0m \u001b[34m/\u001b[0m train/extr_return_normed_mag \u001b[1;36m0.13\u001b[0m \u001b[34m/\u001b[0m train/extr_return_normed_max \u001b[1;36m0.06\u001b[0m \u001b[34m/\u001b[0m \n",
       "train/extr_return_normed_mean \u001b[1;36m-0.05\u001b[0m \u001b[34m/\u001b[0m train/extr_return_normed_min \u001b[1;36m-0.13\u001b[0m \u001b[34m/\u001b[0m train/extr_return_normed_std \u001b[1;36m0.06\u001b[0m \u001b[34m/\u001b[0m \n",
       "train/extr_return_rate \u001b[1;36m0\u001b[0m \u001b[34m/\u001b[0m train/extr_return_raw_mag \u001b[1;36m0.21\u001b[0m \u001b[34m/\u001b[0m train/extr_return_raw_max \u001b[1;36m-0.02\u001b[0m \u001b[34m/\u001b[0m \n",
       "train/extr_return_raw_mean \u001b[1;36m-0.13\u001b[0m \u001b[34m/\u001b[0m train/extr_return_raw_min \u001b[1;36m-0.21\u001b[0m \u001b[34m/\u001b[0m train/extr_return_raw_std \u001b[1;36m0.06\u001b[0m \u001b[34m/\u001b[0m \n",
       "train/extr_reward_mag \u001b[1;36m0.02\u001b[0m \u001b[34m/\u001b[0m train/extr_reward_max \u001b[1;36m-0.02\u001b[0m \u001b[34m/\u001b[0m train/extr_reward_mean \u001b[1;36m-0.02\u001b[0m \u001b[34m/\u001b[0m train/extr_reward_min \n",
       "\u001b[1;36m-0.02\u001b[0m \u001b[34m/\u001b[0m train/extr_reward_std \u001b[1;36m2.2e-5\u001b[0m \u001b[34m/\u001b[0m train/model_loss_mean \u001b[1;36m1.84\u001b[0m \u001b[34m/\u001b[0m train/model_loss_std \u001b[1;36m0.52\u001b[0m \u001b[34m/\u001b[0m \n",
       "train/model_opt_grad_norm \u001b[1;36m7.85\u001b[0m \u001b[34m/\u001b[0m train/model_opt_grad_steps \u001b[1;36m101\u001b[0m \u001b[34m/\u001b[0m train/model_opt_loss \u001b[1;36m1.8e4\u001b[0m \u001b[34m/\u001b[0m \n",
       "train/model_opt_model_opt_grad_overflow \u001b[1;36m0\u001b[0m \u001b[34m/\u001b[0m train/model_opt_model_opt_grad_scale \u001b[1;36m1e4\u001b[0m \u001b[34m/\u001b[0m train/policy_entropy_mag \n",
       "\u001b[1;36m2.83\u001b[0m \u001b[34m/\u001b[0m train/policy_entropy_max \u001b[1;36m2.83\u001b[0m \u001b[34m/\u001b[0m train/policy_entropy_mean \u001b[1;36m2.81\u001b[0m \u001b[34m/\u001b[0m train/policy_entropy_min \u001b[1;36m2.7\u001b[0m \u001b[34m/\u001b[0m \n",
       "train/policy_entropy_std \u001b[1;36m0.01\u001b[0m \u001b[34m/\u001b[0m train/policy_logprob_mag \u001b[1;36m11.4\u001b[0m \u001b[34m/\u001b[0m train/policy_logprob_max \u001b[1;36m-1.74\u001b[0m \u001b[34m/\u001b[0m \n",
       "train/policy_logprob_mean \u001b[1;36m-2.77\u001b[0m \u001b[34m/\u001b[0m train/policy_logprob_min \u001b[1;36m-11.4\u001b[0m \u001b[34m/\u001b[0m train/policy_logprob_std \u001b[1;36m0.97\u001b[0m \u001b[34m/\u001b[0m \n",
       "train/policy_randomness_mag \u001b[1;36m1\u001b[0m \u001b[34m/\u001b[0m train/policy_randomness_max \u001b[1;36m1\u001b[0m \u001b[34m/\u001b[0m train/policy_randomness_mean \u001b[1;36m0.99\u001b[0m \u001b[34m/\u001b[0m \n",
       "train/policy_randomness_min \u001b[1;36m0.97\u001b[0m \u001b[34m/\u001b[0m train/policy_randomness_std \u001b[1;36m2.5e-3\u001b[0m \u001b[34m/\u001b[0m train/post_ent_mag \u001b[1;36m106.2\u001b[0m \u001b[34m/\u001b[0m \n",
       "train/post_ent_max \u001b[1;36m106.2\u001b[0m \u001b[34m/\u001b[0m train/post_ent_mean \u001b[1;36m106.07\u001b[0m \u001b[34m/\u001b[0m train/post_ent_min \u001b[1;36m105.98\u001b[0m \u001b[34m/\u001b[0m train/post_ent_std \u001b[1;36m0.05\u001b[0m \u001b[34m/\u001b[0m \n",
       "train/prior_ent_mag \u001b[1;36m106.64\u001b[0m \u001b[34m/\u001b[0m train/prior_ent_max \u001b[1;36m106.64\u001b[0m \u001b[34m/\u001b[0m train/prior_ent_mean \u001b[1;36m106.39\u001b[0m \u001b[34m/\u001b[0m train/prior_ent_min \u001b[1;36m106.15\u001b[0m \n",
       "\u001b[34m/\u001b[0m train/prior_ent_std \u001b[1;36m0.11\u001b[0m \u001b[34m/\u001b[0m train/rep_loss_mean \u001b[1;36m1\u001b[0m \u001b[34m/\u001b[0m train/rep_loss_std \u001b[1;36m0\u001b[0m \u001b[34m/\u001b[0m train/reward_avg \u001b[1;36m-0.02\u001b[0m \u001b[34m/\u001b[0m \n",
       "train/reward_loss_mean \u001b[1;36m1.04\u001b[0m \u001b[34m/\u001b[0m train/reward_loss_std \u001b[1;36m0.12\u001b[0m \u001b[34m/\u001b[0m train/reward_max_data \u001b[1;36m0.1\u001b[0m \u001b[34m/\u001b[0m train/reward_max_pred \u001b[1;36m0.02\u001b[0m \u001b[34m/\u001b[0m\n",
       "train/reward_neg_acc \u001b[1;36m1\u001b[0m \u001b[34m/\u001b[0m train/reward_neg_loss \u001b[1;36m1.04\u001b[0m \u001b[34m/\u001b[0m train/reward_pos_acc nan \u001b[34m/\u001b[0m train/reward_pos_loss nan \u001b[34m/\u001b[0m \n",
       "train/reward_pred \u001b[1;36m-0.02\u001b[0m \u001b[34m/\u001b[0m train/reward_rate \u001b[1;36m0\u001b[0m \u001b[34m/\u001b[0m train/vector_loss_mean \u001b[1;36m0.15\u001b[0m \u001b[34m/\u001b[0m train/vector_loss_std \u001b[1;36m0.09\u001b[0m \u001b[34m/\u001b[0m \n",
       "train/params_agent/wm/model_opt \u001b[1;36m1.7e7\u001b[0m \u001b[34m/\u001b[0m train/params_agent/task_behavior/critic/critic_opt \u001b[1;36m1.2e6\u001b[0m \u001b[34m/\u001b[0m \n",
       "train/params_agent/task_behavior/ac/actor_opt \u001b[1;36m1.1e6\u001b[0m \u001b[34m/\u001b[0m replay/size \u001b[1;36m3579\u001b[0m \u001b[34m/\u001b[0m replay/inserts \u001b[1;36m0\u001b[0m \u001b[34m/\u001b[0m replay/samples \u001b[1;36m208\u001b[0m \u001b[34m/\u001b[0m \n",
       "replay/insert_wait_avg nan \u001b[34m/\u001b[0m replay/insert_wait_frac nan \u001b[34m/\u001b[0m replay/sample_wait_avg \u001b[1;36m1.3e-6\u001b[0m \u001b[34m/\u001b[0m replay/sample_wait_frac \n",
       "\u001b[1;36m1\u001b[0m \u001b[34m/\u001b[0m timer/duration \u001b[1;36m168.52\u001b[0m \u001b[34m/\u001b[0m timer/logger.write_count \u001b[1;36m1\u001b[0m \u001b[34m/\u001b[0m timer/logger.write_total \u001b[1;36m1.1e-5\u001b[0m \u001b[34m/\u001b[0m timer/logger.write_frac \n",
       "\u001b[1;36m6.5e-8\u001b[0m \u001b[34m/\u001b[0m timer/logger.write_avg \u001b[1;36m1.1e-5\u001b[0m \u001b[34m/\u001b[0m timer/logger.write_min \u001b[1;36m1.1e-5\u001b[0m \u001b[34m/\u001b[0m timer/logger.write_max \u001b[1;36m1.1e-5\u001b[0m \u001b[34m/\u001b[0m \n",
       "timer/replay.add_count \u001b[1;36m1201\u001b[0m \u001b[34m/\u001b[0m timer/replay.add_total \u001b[1;36m0.03\u001b[0m \u001b[34m/\u001b[0m timer/replay.add_frac \u001b[1;36m1.8e-4\u001b[0m \u001b[34m/\u001b[0m timer/replay.add_avg \n",
       "\u001b[1;36m2.6e-5\u001b[0m \u001b[34m/\u001b[0m timer/replay.add_min \u001b[1;36m7.6e-6\u001b[0m \u001b[34m/\u001b[0m timer/replay.add_max \u001b[1;36m4.3e-4\u001b[0m \u001b[34m/\u001b[0m timer/checkpoint.load_count \u001b[1;36m1\u001b[0m \u001b[34m/\u001b[0m \n",
       "timer/checkpoint.load_total \u001b[1;36m0.17\u001b[0m \u001b[34m/\u001b[0m timer/checkpoint.load_frac \u001b[1;36m1e-3\u001b[0m \u001b[34m/\u001b[0m timer/checkpoint.load_avg \u001b[1;36m0.17\u001b[0m \u001b[34m/\u001b[0m \n",
       "timer/checkpoint.load_min \u001b[1;36m0.17\u001b[0m \u001b[34m/\u001b[0m timer/checkpoint.load_max \u001b[1;36m0.17\u001b[0m \u001b[34m/\u001b[0m timer/env.step_count \u001b[1;36m1\u001b[0m \u001b[34m/\u001b[0m timer/env.step_total \n",
       "\u001b[1;36m102.08\u001b[0m \u001b[34m/\u001b[0m timer/env.step_frac \u001b[1;36m0.61\u001b[0m \u001b[34m/\u001b[0m timer/env.step_avg \u001b[1;36m102.08\u001b[0m \u001b[34m/\u001b[0m timer/env.step_min \u001b[1;36m102.08\u001b[0m \u001b[34m/\u001b[0m timer/env.step_max \n",
       "\u001b[1;36m102.08\u001b[0m \u001b[34m/\u001b[0m timer/agent.policy_count \u001b[1;36m1\u001b[0m \u001b[34m/\u001b[0m timer/agent.policy_total \u001b[1;36m3.92\u001b[0m \u001b[34m/\u001b[0m timer/agent.policy_frac \u001b[1;36m0.02\u001b[0m \u001b[34m/\u001b[0m \n",
       "timer/agent.policy_avg \u001b[1;36m3.92\u001b[0m \u001b[34m/\u001b[0m timer/agent.policy_min \u001b[1;36m3.92\u001b[0m \u001b[34m/\u001b[0m timer/agent.policy_max \u001b[1;36m3.92\u001b[0m \u001b[34m/\u001b[0m timer/dataset_count \u001b[1;36m1\u001b[0m \u001b[34m/\u001b[0m \n",
       "timer/dataset_total \u001b[1;36m4.7e-5\u001b[0m \u001b[34m/\u001b[0m timer/dataset_frac \u001b[1;36m2.8e-7\u001b[0m \u001b[34m/\u001b[0m timer/dataset_avg \u001b[1;36m4.7e-5\u001b[0m \u001b[34m/\u001b[0m timer/dataset_min \u001b[1;36m4.7e-5\u001b[0m \u001b[34m/\u001b[0m \n",
       "timer/dataset_max \u001b[1;36m4.7e-5\u001b[0m \u001b[34m/\u001b[0m timer/agent.train_count \u001b[1;36m1\u001b[0m \u001b[34m/\u001b[0m timer/agent.train_total \u001b[1;36m55.16\u001b[0m \u001b[34m/\u001b[0m timer/agent.train_frac \u001b[1;36m0.33\u001b[0m \n",
       "\u001b[34m/\u001b[0m timer/agent.train_avg \u001b[1;36m55.16\u001b[0m \u001b[34m/\u001b[0m timer/agent.train_min \u001b[1;36m55.16\u001b[0m \u001b[34m/\u001b[0m timer/agent.train_max \u001b[1;36m55.16\u001b[0m \u001b[34m/\u001b[0m \n",
       "timer/agent.report_count \u001b[1;36m1\u001b[0m \u001b[34m/\u001b[0m timer/agent.report_total \u001b[1;36m7.18\u001b[0m \u001b[34m/\u001b[0m timer/agent.report_frac \u001b[1;36m0.04\u001b[0m \u001b[34m/\u001b[0m timer/agent.report_avg \n",
       "\u001b[1;36m7.18\u001b[0m \u001b[34m/\u001b[0m timer/agent.report_min \u001b[1;36m7.18\u001b[0m \u001b[34m/\u001b[0m timer/agent.report_max \u001b[1;36m7.18\u001b[0m\n"
      ]
     },
     "metadata": {},
     "output_type": "display_data"
    },
    {
     "name": "stdout",
     "output_type": "stream",
     "text": [
      "\n",
      "Creating new TensorBoard event file writer.\n",
      "step in driver:  1\n",
      "step in driver:  2\n",
      "step in driver:  3\n",
      "step in driver:  4\n",
      "step in driver:  5\n",
      "step in driver:  6\n",
      "step in driver:  7\n",
      "step in driver:  8\n",
      "step in driver:  9\n",
      "step in driver:  10\n",
      "step in driver:  11\n",
      "step in driver:  12\n",
      "step in driver:  13\n",
      "step in driver:  14\n",
      "step in driver:  15\n",
      "step in driver:  16\n",
      "step in driver:  17\n",
      "step in driver:  18\n",
      "step in driver:  19\n",
      "step in driver:  20\n",
      "step in driver:  21\n",
      "step in driver:  22\n",
      "step in driver:  23\n",
      "step in driver:  24\n",
      "step in driver:  25\n",
      "step in driver:  26\n",
      "step in driver:  27\n",
      "step in driver:  28\n",
      "step in driver:  29\n"
     ]
    },
    {
     "data": {
      "text/html": [
       "<pre style=\"white-space:pre;overflow-x:auto;line-height:normal;font-family:Menlo,'DejaVu Sans Mono',consolas,'Courier New',monospace\"><span style=\"color: #00ff00; text-decoration-color: #00ff00\">──────────────────────────────────────────────────── </span><span style=\"color: #008000; text-decoration-color: #008000; font-weight: bold\">Step </span><span style=\"color: #008000; text-decoration-color: #008000; font-weight: bold\">630</span><span style=\"color: #00ff00; text-decoration-color: #00ff00\"> ─────────────────────────────────────────────────────</span>\n",
       "</pre>\n"
      ],
      "text/plain": [
       "\u001b[92m──────────────────────────────────────────────────── \u001b[0m\u001b[1;32mStep \u001b[0m\u001b[1;32m630\u001b[0m\u001b[92m ─────────────────────────────────────────────────────\u001b[0m\n"
      ]
     },
     "metadata": {},
     "output_type": "display_data"
    },
    {
     "data": {
      "text/html": [
       "<pre style=\"white-space:pre;overflow-x:auto;line-height:normal;font-family:Menlo,'DejaVu Sans Mono',consolas,'Courier New',monospace\">report/cont_avg <span style=\"color: #008080; text-decoration-color: #008080; font-weight: bold\">1</span> <span style=\"color: #000080; text-decoration-color: #000080\">/</span> report/cont_loss_mean <span style=\"color: #008080; text-decoration-color: #008080; font-weight: bold\">3.9e-3</span> <span style=\"color: #000080; text-decoration-color: #000080\">/</span> report/cont_loss_std <span style=\"color: #008080; text-decoration-color: #008080; font-weight: bold\">1.5e-3</span> <span style=\"color: #000080; text-decoration-color: #000080\">/</span> report/cont_neg_acc nan <span style=\"color: #000080; text-decoration-color: #000080\">/</span> \n",
       "report/cont_neg_loss nan <span style=\"color: #000080; text-decoration-color: #000080\">/</span> report/cont_pos_acc <span style=\"color: #008080; text-decoration-color: #008080; font-weight: bold\">1</span> <span style=\"color: #000080; text-decoration-color: #000080\">/</span> report/cont_pos_loss <span style=\"color: #008080; text-decoration-color: #008080; font-weight: bold\">3.9e-3</span> <span style=\"color: #000080; text-decoration-color: #000080\">/</span> report/cont_pred <span style=\"color: #008080; text-decoration-color: #008080; font-weight: bold\">1</span> <span style=\"color: #000080; text-decoration-color: #000080\">/</span> \n",
       "report/cont_rate <span style=\"color: #008080; text-decoration-color: #008080; font-weight: bold\">1</span> <span style=\"color: #000080; text-decoration-color: #000080\">/</span> report/dyn_loss_mean <span style=\"color: #008080; text-decoration-color: #008080; font-weight: bold\">1</span> <span style=\"color: #000080; text-decoration-color: #000080\">/</span> report/dyn_loss_std <span style=\"color: #008080; text-decoration-color: #008080; font-weight: bold\">2.8e-3</span> <span style=\"color: #000080; text-decoration-color: #000080\">/</span> report/model_loss_mean <span style=\"color: #008080; text-decoration-color: #008080; font-weight: bold\">1.64</span> <span style=\"color: #000080; text-decoration-color: #000080\">/</span> \n",
       "report/model_loss_std <span style=\"color: #008080; text-decoration-color: #008080; font-weight: bold\">0.2</span> <span style=\"color: #000080; text-decoration-color: #000080\">/</span> report/post_ent_mag <span style=\"color: #008080; text-decoration-color: #008080; font-weight: bold\">106.06</span> <span style=\"color: #000080; text-decoration-color: #000080\">/</span> report/post_ent_max <span style=\"color: #008080; text-decoration-color: #008080; font-weight: bold\">106.06</span> <span style=\"color: #000080; text-decoration-color: #000080\">/</span> report/post_ent_mean <span style=\"color: #008080; text-decoration-color: #008080; font-weight: bold\">105.9</span> <span style=\"color: #000080; text-decoration-color: #000080\">/</span> \n",
       "report/post_ent_min <span style=\"color: #008080; text-decoration-color: #008080; font-weight: bold\">105.81</span> <span style=\"color: #000080; text-decoration-color: #000080\">/</span> report/post_ent_std <span style=\"color: #008080; text-decoration-color: #008080; font-weight: bold\">0.05</span> <span style=\"color: #000080; text-decoration-color: #000080\">/</span> report/prior_ent_mag <span style=\"color: #008080; text-decoration-color: #008080; font-weight: bold\">106.58</span> <span style=\"color: #000080; text-decoration-color: #000080\">/</span> report/prior_ent_max <span style=\"color: #008080; text-decoration-color: #008080; font-weight: bold\">106.58</span> <span style=\"color: #000080; text-decoration-color: #000080\">/</span>\n",
       "report/prior_ent_mean <span style=\"color: #008080; text-decoration-color: #008080; font-weight: bold\">106.33</span> <span style=\"color: #000080; text-decoration-color: #000080\">/</span> report/prior_ent_min <span style=\"color: #008080; text-decoration-color: #008080; font-weight: bold\">106.11</span> <span style=\"color: #000080; text-decoration-color: #000080\">/</span> report/prior_ent_std <span style=\"color: #008080; text-decoration-color: #008080; font-weight: bold\">0.12</span> <span style=\"color: #000080; text-decoration-color: #000080\">/</span> report/rep_loss_mean <span style=\"color: #008080; text-decoration-color: #008080; font-weight: bold\">1</span> <span style=\"color: #000080; text-decoration-color: #000080\">/</span> \n",
       "report/rep_loss_std <span style=\"color: #008080; text-decoration-color: #008080; font-weight: bold\">2.8e-3</span> <span style=\"color: #000080; text-decoration-color: #000080\">/</span> report/reward_avg <span style=\"color: #008080; text-decoration-color: #008080; font-weight: bold\">-0.02</span> <span style=\"color: #000080; text-decoration-color: #000080\">/</span> report/reward_loss_mean <span style=\"color: #008080; text-decoration-color: #008080; font-weight: bold\">0.89</span> <span style=\"color: #000080; text-decoration-color: #000080\">/</span> report/reward_loss_std <span style=\"color: #008080; text-decoration-color: #008080; font-weight: bold\">0.16</span> <span style=\"color: #000080; text-decoration-color: #000080\">/</span>\n",
       "report/reward_max_data <span style=\"color: #008080; text-decoration-color: #008080; font-weight: bold\">0.09</span> <span style=\"color: #000080; text-decoration-color: #000080\">/</span> report/reward_max_pred <span style=\"color: #008080; text-decoration-color: #008080; font-weight: bold\">0.02</span> <span style=\"color: #000080; text-decoration-color: #000080\">/</span> report/reward_neg_acc <span style=\"color: #008080; text-decoration-color: #008080; font-weight: bold\">1</span> <span style=\"color: #000080; text-decoration-color: #000080\">/</span> report/reward_neg_loss <span style=\"color: #008080; text-decoration-color: #008080; font-weight: bold\">0.89</span> <span style=\"color: #000080; text-decoration-color: #000080\">/</span>\n",
       "report/reward_pos_acc nan <span style=\"color: #000080; text-decoration-color: #000080\">/</span> report/reward_pos_loss nan <span style=\"color: #000080; text-decoration-color: #000080\">/</span> report/reward_pred <span style=\"color: #008080; text-decoration-color: #008080; font-weight: bold\">-0.02</span> <span style=\"color: #000080; text-decoration-color: #000080\">/</span> report/reward_rate <span style=\"color: #008080; text-decoration-color: #008080; font-weight: bold\">0</span> <span style=\"color: #000080; text-decoration-color: #000080\">/</span> \n",
       "report/vector_loss_mean <span style=\"color: #008080; text-decoration-color: #008080; font-weight: bold\">0.15</span> <span style=\"color: #000080; text-decoration-color: #000080\">/</span> report/vector_loss_std <span style=\"color: #008080; text-decoration-color: #008080; font-weight: bold\">0.08</span> <span style=\"color: #000080; text-decoration-color: #000080\">/</span> replay/size <span style=\"color: #008080; text-decoration-color: #008080; font-weight: bold\">3602</span> <span style=\"color: #000080; text-decoration-color: #000080\">/</span> replay/inserts <span style=\"color: #008080; text-decoration-color: #008080; font-weight: bold\">23</span> <span style=\"color: #000080; text-decoration-color: #000080\">/</span> replay/samples \n",
       "<span style=\"color: #008080; text-decoration-color: #008080; font-weight: bold\">112</span> <span style=\"color: #000080; text-decoration-color: #000080\">/</span> replay/insert_wait_avg <span style=\"color: #008080; text-decoration-color: #008080; font-weight: bold\">6.2e-6</span> <span style=\"color: #000080; text-decoration-color: #000080\">/</span> replay/insert_wait_frac <span style=\"color: #008080; text-decoration-color: #008080; font-weight: bold\">1</span> <span style=\"color: #000080; text-decoration-color: #000080\">/</span> replay/sample_wait_avg <span style=\"color: #008080; text-decoration-color: #008080; font-weight: bold\">1.5e-6</span> <span style=\"color: #000080; text-decoration-color: #000080\">/</span> \n",
       "replay/sample_wait_frac <span style=\"color: #008080; text-decoration-color: #008080; font-weight: bold\">1</span> <span style=\"color: #000080; text-decoration-color: #000080\">/</span> timer/duration <span style=\"color: #008080; text-decoration-color: #008080; font-weight: bold\">154.8</span> <span style=\"color: #000080; text-decoration-color: #000080\">/</span> timer/logger.write_count <span style=\"color: #008080; text-decoration-color: #008080; font-weight: bold\">1</span> <span style=\"color: #000080; text-decoration-color: #000080\">/</span> timer/logger.write_total <span style=\"color: #008080; text-decoration-color: #008080; font-weight: bold\">0.1</span> <span style=\"color: #000080; text-decoration-color: #000080\">/</span> \n",
       "timer/logger.write_frac <span style=\"color: #008080; text-decoration-color: #008080; font-weight: bold\">6.2e-4</span> <span style=\"color: #000080; text-decoration-color: #000080\">/</span> timer/logger.write_avg <span style=\"color: #008080; text-decoration-color: #008080; font-weight: bold\">0.1</span> <span style=\"color: #000080; text-decoration-color: #000080\">/</span> timer/logger.write_min <span style=\"color: #008080; text-decoration-color: #008080; font-weight: bold\">0.1</span> <span style=\"color: #000080; text-decoration-color: #000080\">/</span> timer/logger.write_max \n",
       "<span style=\"color: #008080; text-decoration-color: #008080; font-weight: bold\">0.1</span> <span style=\"color: #000080; text-decoration-color: #000080\">/</span> timer/replay.add_count <span style=\"color: #008080; text-decoration-color: #008080; font-weight: bold\">29</span> <span style=\"color: #000080; text-decoration-color: #000080\">/</span> timer/replay.add_total <span style=\"color: #008080; text-decoration-color: #008080; font-weight: bold\">9.8e-3</span> <span style=\"color: #000080; text-decoration-color: #000080\">/</span> timer/replay.add_frac <span style=\"color: #008080; text-decoration-color: #008080; font-weight: bold\">6.4e-5</span> <span style=\"color: #000080; text-decoration-color: #000080\">/</span> \n",
       "timer/replay.add_avg <span style=\"color: #008080; text-decoration-color: #008080; font-weight: bold\">3.4e-4</span> <span style=\"color: #000080; text-decoration-color: #000080\">/</span> timer/replay.add_min <span style=\"color: #008080; text-decoration-color: #008080; font-weight: bold\">1.2e-4</span> <span style=\"color: #000080; text-decoration-color: #000080\">/</span> timer/replay.add_max <span style=\"color: #008080; text-decoration-color: #008080; font-weight: bold\">5.7e-4</span> <span style=\"color: #000080; text-decoration-color: #000080\">/</span> \n",
       "timer/checkpoint.load_count <span style=\"color: #008080; text-decoration-color: #008080; font-weight: bold\">0</span> <span style=\"color: #000080; text-decoration-color: #000080\">/</span> timer/checkpoint.load_total <span style=\"color: #008080; text-decoration-color: #008080; font-weight: bold\">0</span> <span style=\"color: #000080; text-decoration-color: #000080\">/</span> timer/checkpoint.load_frac <span style=\"color: #008080; text-decoration-color: #008080; font-weight: bold\">0</span> <span style=\"color: #000080; text-decoration-color: #000080\">/</span> timer/env.step_count\n",
       "<span style=\"color: #008080; text-decoration-color: #008080; font-weight: bold\">29</span> <span style=\"color: #000080; text-decoration-color: #000080\">/</span> timer/env.step_total <span style=\"color: #008080; text-decoration-color: #008080; font-weight: bold\">146.09</span> <span style=\"color: #000080; text-decoration-color: #000080\">/</span> timer/env.step_frac <span style=\"color: #008080; text-decoration-color: #008080; font-weight: bold\">0.94</span> <span style=\"color: #000080; text-decoration-color: #000080\">/</span> timer/env.step_avg <span style=\"color: #008080; text-decoration-color: #008080; font-weight: bold\">5.04</span> <span style=\"color: #000080; text-decoration-color: #000080\">/</span> timer/env.step_min <span style=\"color: #008080; text-decoration-color: #008080; font-weight: bold\">4.87</span> <span style=\"color: #000080; text-decoration-color: #000080\">/</span> \n",
       "timer/env.step_max <span style=\"color: #008080; text-decoration-color: #008080; font-weight: bold\">5.78</span> <span style=\"color: #000080; text-decoration-color: #000080\">/</span> timer/agent.policy_count <span style=\"color: #008080; text-decoration-color: #008080; font-weight: bold\">29</span> <span style=\"color: #000080; text-decoration-color: #000080\">/</span> timer/agent.policy_total <span style=\"color: #008080; text-decoration-color: #008080; font-weight: bold\">0.34</span> <span style=\"color: #000080; text-decoration-color: #000080\">/</span> timer/agent.policy_frac \n",
       "<span style=\"color: #008080; text-decoration-color: #008080; font-weight: bold\">2.2e-3</span> <span style=\"color: #000080; text-decoration-color: #000080\">/</span> timer/agent.policy_avg <span style=\"color: #008080; text-decoration-color: #008080; font-weight: bold\">0.01</span> <span style=\"color: #000080; text-decoration-color: #000080\">/</span> timer/agent.policy_min <span style=\"color: #008080; text-decoration-color: #008080; font-weight: bold\">8.4e-3</span> <span style=\"color: #000080; text-decoration-color: #000080\">/</span> timer/agent.policy_max <span style=\"color: #008080; text-decoration-color: #008080; font-weight: bold\">0.02</span> <span style=\"color: #000080; text-decoration-color: #000080\">/</span> \n",
       "timer/dataset_count <span style=\"color: #008080; text-decoration-color: #008080; font-weight: bold\">7</span> <span style=\"color: #000080; text-decoration-color: #000080\">/</span> timer/dataset_total <span style=\"color: #008080; text-decoration-color: #008080; font-weight: bold\">8.1e-4</span> <span style=\"color: #000080; text-decoration-color: #000080\">/</span> timer/dataset_frac <span style=\"color: #008080; text-decoration-color: #008080; font-weight: bold\">5.2e-6</span> <span style=\"color: #000080; text-decoration-color: #000080\">/</span> timer/dataset_avg <span style=\"color: #008080; text-decoration-color: #008080; font-weight: bold\">1.2e-4</span> <span style=\"color: #000080; text-decoration-color: #000080\">/</span> \n",
       "timer/dataset_min <span style=\"color: #008080; text-decoration-color: #008080; font-weight: bold\">6.7e-5</span> <span style=\"color: #000080; text-decoration-color: #000080\">/</span> timer/dataset_max <span style=\"color: #008080; text-decoration-color: #008080; font-weight: bold\">1.6e-4</span> <span style=\"color: #000080; text-decoration-color: #000080\">/</span> timer/agent.train_count <span style=\"color: #008080; text-decoration-color: #008080; font-weight: bold\">7</span> <span style=\"color: #000080; text-decoration-color: #000080\">/</span> timer/agent.train_total <span style=\"color: #008080; text-decoration-color: #008080; font-weight: bold\">8.18</span> <span style=\"color: #000080; text-decoration-color: #000080\">/</span> \n",
       "timer/agent.train_frac <span style=\"color: #008080; text-decoration-color: #008080; font-weight: bold\">0.05</span> <span style=\"color: #000080; text-decoration-color: #000080\">/</span> timer/agent.train_avg <span style=\"color: #008080; text-decoration-color: #008080; font-weight: bold\">1.17</span> <span style=\"color: #000080; text-decoration-color: #000080\">/</span> timer/agent.train_min <span style=\"color: #008080; text-decoration-color: #008080; font-weight: bold\">1.05</span> <span style=\"color: #000080; text-decoration-color: #000080\">/</span> timer/agent.train_max <span style=\"color: #008080; text-decoration-color: #008080; font-weight: bold\">1.38</span> \n",
       "<span style=\"color: #000080; text-decoration-color: #000080\">/</span> timer/agent.report_count <span style=\"color: #008080; text-decoration-color: #008080; font-weight: bold\">1</span> <span style=\"color: #000080; text-decoration-color: #000080\">/</span> timer/agent.report_total <span style=\"color: #008080; text-decoration-color: #008080; font-weight: bold\">0.07</span> <span style=\"color: #000080; text-decoration-color: #000080\">/</span> timer/agent.report_frac <span style=\"color: #008080; text-decoration-color: #008080; font-weight: bold\">4.6e-4</span> <span style=\"color: #000080; text-decoration-color: #000080\">/</span> \n",
       "timer/agent.report_avg <span style=\"color: #008080; text-decoration-color: #008080; font-weight: bold\">0.07</span> <span style=\"color: #000080; text-decoration-color: #000080\">/</span> timer/agent.report_min <span style=\"color: #008080; text-decoration-color: #008080; font-weight: bold\">0.07</span> <span style=\"color: #000080; text-decoration-color: #000080\">/</span> timer/agent.report_max <span style=\"color: #008080; text-decoration-color: #008080; font-weight: bold\">0.07</span> <span style=\"color: #000080; text-decoration-color: #000080\">/</span> fps <span style=\"color: #008080; text-decoration-color: #008080; font-weight: bold\">0.19</span>\n",
       "</pre>\n"
      ],
      "text/plain": [
       "report/cont_avg \u001b[1;36m1\u001b[0m \u001b[34m/\u001b[0m report/cont_loss_mean \u001b[1;36m3.9e-3\u001b[0m \u001b[34m/\u001b[0m report/cont_loss_std \u001b[1;36m1.5e-3\u001b[0m \u001b[34m/\u001b[0m report/cont_neg_acc nan \u001b[34m/\u001b[0m \n",
       "report/cont_neg_loss nan \u001b[34m/\u001b[0m report/cont_pos_acc \u001b[1;36m1\u001b[0m \u001b[34m/\u001b[0m report/cont_pos_loss \u001b[1;36m3.9e-3\u001b[0m \u001b[34m/\u001b[0m report/cont_pred \u001b[1;36m1\u001b[0m \u001b[34m/\u001b[0m \n",
       "report/cont_rate \u001b[1;36m1\u001b[0m \u001b[34m/\u001b[0m report/dyn_loss_mean \u001b[1;36m1\u001b[0m \u001b[34m/\u001b[0m report/dyn_loss_std \u001b[1;36m2.8e-3\u001b[0m \u001b[34m/\u001b[0m report/model_loss_mean \u001b[1;36m1.64\u001b[0m \u001b[34m/\u001b[0m \n",
       "report/model_loss_std \u001b[1;36m0.2\u001b[0m \u001b[34m/\u001b[0m report/post_ent_mag \u001b[1;36m106.06\u001b[0m \u001b[34m/\u001b[0m report/post_ent_max \u001b[1;36m106.06\u001b[0m \u001b[34m/\u001b[0m report/post_ent_mean \u001b[1;36m105.9\u001b[0m \u001b[34m/\u001b[0m \n",
       "report/post_ent_min \u001b[1;36m105.81\u001b[0m \u001b[34m/\u001b[0m report/post_ent_std \u001b[1;36m0.05\u001b[0m \u001b[34m/\u001b[0m report/prior_ent_mag \u001b[1;36m106.58\u001b[0m \u001b[34m/\u001b[0m report/prior_ent_max \u001b[1;36m106.58\u001b[0m \u001b[34m/\u001b[0m\n",
       "report/prior_ent_mean \u001b[1;36m106.33\u001b[0m \u001b[34m/\u001b[0m report/prior_ent_min \u001b[1;36m106.11\u001b[0m \u001b[34m/\u001b[0m report/prior_ent_std \u001b[1;36m0.12\u001b[0m \u001b[34m/\u001b[0m report/rep_loss_mean \u001b[1;36m1\u001b[0m \u001b[34m/\u001b[0m \n",
       "report/rep_loss_std \u001b[1;36m2.8e-3\u001b[0m \u001b[34m/\u001b[0m report/reward_avg \u001b[1;36m-0.02\u001b[0m \u001b[34m/\u001b[0m report/reward_loss_mean \u001b[1;36m0.89\u001b[0m \u001b[34m/\u001b[0m report/reward_loss_std \u001b[1;36m0.16\u001b[0m \u001b[34m/\u001b[0m\n",
       "report/reward_max_data \u001b[1;36m0.09\u001b[0m \u001b[34m/\u001b[0m report/reward_max_pred \u001b[1;36m0.02\u001b[0m \u001b[34m/\u001b[0m report/reward_neg_acc \u001b[1;36m1\u001b[0m \u001b[34m/\u001b[0m report/reward_neg_loss \u001b[1;36m0.89\u001b[0m \u001b[34m/\u001b[0m\n",
       "report/reward_pos_acc nan \u001b[34m/\u001b[0m report/reward_pos_loss nan \u001b[34m/\u001b[0m report/reward_pred \u001b[1;36m-0.02\u001b[0m \u001b[34m/\u001b[0m report/reward_rate \u001b[1;36m0\u001b[0m \u001b[34m/\u001b[0m \n",
       "report/vector_loss_mean \u001b[1;36m0.15\u001b[0m \u001b[34m/\u001b[0m report/vector_loss_std \u001b[1;36m0.08\u001b[0m \u001b[34m/\u001b[0m replay/size \u001b[1;36m3602\u001b[0m \u001b[34m/\u001b[0m replay/inserts \u001b[1;36m23\u001b[0m \u001b[34m/\u001b[0m replay/samples \n",
       "\u001b[1;36m112\u001b[0m \u001b[34m/\u001b[0m replay/insert_wait_avg \u001b[1;36m6.2e-6\u001b[0m \u001b[34m/\u001b[0m replay/insert_wait_frac \u001b[1;36m1\u001b[0m \u001b[34m/\u001b[0m replay/sample_wait_avg \u001b[1;36m1.5e-6\u001b[0m \u001b[34m/\u001b[0m \n",
       "replay/sample_wait_frac \u001b[1;36m1\u001b[0m \u001b[34m/\u001b[0m timer/duration \u001b[1;36m154.8\u001b[0m \u001b[34m/\u001b[0m timer/logger.write_count \u001b[1;36m1\u001b[0m \u001b[34m/\u001b[0m timer/logger.write_total \u001b[1;36m0.1\u001b[0m \u001b[34m/\u001b[0m \n",
       "timer/logger.write_frac \u001b[1;36m6.2e-4\u001b[0m \u001b[34m/\u001b[0m timer/logger.write_avg \u001b[1;36m0.1\u001b[0m \u001b[34m/\u001b[0m timer/logger.write_min \u001b[1;36m0.1\u001b[0m \u001b[34m/\u001b[0m timer/logger.write_max \n",
       "\u001b[1;36m0.1\u001b[0m \u001b[34m/\u001b[0m timer/replay.add_count \u001b[1;36m29\u001b[0m \u001b[34m/\u001b[0m timer/replay.add_total \u001b[1;36m9.8e-3\u001b[0m \u001b[34m/\u001b[0m timer/replay.add_frac \u001b[1;36m6.4e-5\u001b[0m \u001b[34m/\u001b[0m \n",
       "timer/replay.add_avg \u001b[1;36m3.4e-4\u001b[0m \u001b[34m/\u001b[0m timer/replay.add_min \u001b[1;36m1.2e-4\u001b[0m \u001b[34m/\u001b[0m timer/replay.add_max \u001b[1;36m5.7e-4\u001b[0m \u001b[34m/\u001b[0m \n",
       "timer/checkpoint.load_count \u001b[1;36m0\u001b[0m \u001b[34m/\u001b[0m timer/checkpoint.load_total \u001b[1;36m0\u001b[0m \u001b[34m/\u001b[0m timer/checkpoint.load_frac \u001b[1;36m0\u001b[0m \u001b[34m/\u001b[0m timer/env.step_count\n",
       "\u001b[1;36m29\u001b[0m \u001b[34m/\u001b[0m timer/env.step_total \u001b[1;36m146.09\u001b[0m \u001b[34m/\u001b[0m timer/env.step_frac \u001b[1;36m0.94\u001b[0m \u001b[34m/\u001b[0m timer/env.step_avg \u001b[1;36m5.04\u001b[0m \u001b[34m/\u001b[0m timer/env.step_min \u001b[1;36m4.87\u001b[0m \u001b[34m/\u001b[0m \n",
       "timer/env.step_max \u001b[1;36m5.78\u001b[0m \u001b[34m/\u001b[0m timer/agent.policy_count \u001b[1;36m29\u001b[0m \u001b[34m/\u001b[0m timer/agent.policy_total \u001b[1;36m0.34\u001b[0m \u001b[34m/\u001b[0m timer/agent.policy_frac \n",
       "\u001b[1;36m2.2e-3\u001b[0m \u001b[34m/\u001b[0m timer/agent.policy_avg \u001b[1;36m0.01\u001b[0m \u001b[34m/\u001b[0m timer/agent.policy_min \u001b[1;36m8.4e-3\u001b[0m \u001b[34m/\u001b[0m timer/agent.policy_max \u001b[1;36m0.02\u001b[0m \u001b[34m/\u001b[0m \n",
       "timer/dataset_count \u001b[1;36m7\u001b[0m \u001b[34m/\u001b[0m timer/dataset_total \u001b[1;36m8.1e-4\u001b[0m \u001b[34m/\u001b[0m timer/dataset_frac \u001b[1;36m5.2e-6\u001b[0m \u001b[34m/\u001b[0m timer/dataset_avg \u001b[1;36m1.2e-4\u001b[0m \u001b[34m/\u001b[0m \n",
       "timer/dataset_min \u001b[1;36m6.7e-5\u001b[0m \u001b[34m/\u001b[0m timer/dataset_max \u001b[1;36m1.6e-4\u001b[0m \u001b[34m/\u001b[0m timer/agent.train_count \u001b[1;36m7\u001b[0m \u001b[34m/\u001b[0m timer/agent.train_total \u001b[1;36m8.18\u001b[0m \u001b[34m/\u001b[0m \n",
       "timer/agent.train_frac \u001b[1;36m0.05\u001b[0m \u001b[34m/\u001b[0m timer/agent.train_avg \u001b[1;36m1.17\u001b[0m \u001b[34m/\u001b[0m timer/agent.train_min \u001b[1;36m1.05\u001b[0m \u001b[34m/\u001b[0m timer/agent.train_max \u001b[1;36m1.38\u001b[0m \n",
       "\u001b[34m/\u001b[0m timer/agent.report_count \u001b[1;36m1\u001b[0m \u001b[34m/\u001b[0m timer/agent.report_total \u001b[1;36m0.07\u001b[0m \u001b[34m/\u001b[0m timer/agent.report_frac \u001b[1;36m4.6e-4\u001b[0m \u001b[34m/\u001b[0m \n",
       "timer/agent.report_avg \u001b[1;36m0.07\u001b[0m \u001b[34m/\u001b[0m timer/agent.report_min \u001b[1;36m0.07\u001b[0m \u001b[34m/\u001b[0m timer/agent.report_max \u001b[1;36m0.07\u001b[0m \u001b[34m/\u001b[0m fps \u001b[1;36m0.19\u001b[0m\n"
      ]
     },
     "metadata": {},
     "output_type": "display_data"
    },
    {
     "name": "stdout",
     "output_type": "stream",
     "text": [
      "\n",
      "step in driver:  30\n",
      "step in driver:  31\n",
      "step in driver:  32\n",
      "step in driver:  33\n",
      "step in driver:  34\n",
      "step in driver:  35\n",
      "step in driver:  36\n",
      "step in driver:  37\n",
      "step in driver:  38\n",
      "step in driver:  39\n",
      "step in driver:  40\n",
      "step in driver:  41\n",
      "step in driver:  42\n",
      "step in driver:  43\n",
      "step in driver:  44\n",
      "step in driver:  45\n",
      "step in driver:  46\n",
      "step in driver:  47\n",
      "step in driver:  48\n",
      "step in driver:  49\n",
      "step in driver:  50\n",
      "step in driver:  51\n",
      "step in driver:  52\n",
      "step in driver:  53\n",
      "step in driver:  54\n",
      "step in driver:  55\n",
      "step in driver:  56\n",
      "step in driver:  57\n",
      "step in driver:  58\n",
      "step in driver:  59\n"
     ]
    },
    {
     "data": {
      "text/html": [
       "<pre style=\"white-space:pre;overflow-x:auto;line-height:normal;font-family:Menlo,'DejaVu Sans Mono',consolas,'Courier New',monospace\"><span style=\"color: #00ff00; text-decoration-color: #00ff00\">──────────────────────────────────────────────────── </span><span style=\"color: #008000; text-decoration-color: #008000; font-weight: bold\">Step </span><span style=\"color: #008000; text-decoration-color: #008000; font-weight: bold\">660</span><span style=\"color: #00ff00; text-decoration-color: #00ff00\"> ─────────────────────────────────────────────────────</span>\n",
       "</pre>\n"
      ],
      "text/plain": [
       "\u001b[92m──────────────────────────────────────────────────── \u001b[0m\u001b[1;32mStep \u001b[0m\u001b[1;32m660\u001b[0m\u001b[92m ─────────────────────────────────────────────────────\u001b[0m\n"
      ]
     },
     "metadata": {},
     "output_type": "display_data"
    },
    {
     "data": {
      "text/html": [
       "<pre style=\"white-space:pre;overflow-x:auto;line-height:normal;font-family:Menlo,'DejaVu Sans Mono',consolas,'Courier New',monospace\">train/action_mag <span style=\"color: #008080; text-decoration-color: #008080; font-weight: bold\">4.43</span> <span style=\"color: #000080; text-decoration-color: #000080\">/</span> train/action_max <span style=\"color: #008080; text-decoration-color: #008080; font-weight: bold\">3.71</span> <span style=\"color: #000080; text-decoration-color: #000080\">/</span> train/action_mean <span style=\"color: #008080; text-decoration-color: #008080; font-weight: bold\">3.8e-3</span> <span style=\"color: #000080; text-decoration-color: #000080\">/</span> train/action_min <span style=\"color: #008080; text-decoration-color: #008080; font-weight: bold\">-4.43</span> <span style=\"color: #000080; text-decoration-color: #000080\">/</span> \n",
       "train/action_std <span style=\"color: #008080; text-decoration-color: #008080; font-weight: bold\">1.31</span> <span style=\"color: #000080; text-decoration-color: #000080\">/</span> train/actor_opt_actor_opt_grad_overflow <span style=\"color: #008080; text-decoration-color: #008080; font-weight: bold\">0</span> <span style=\"color: #000080; text-decoration-color: #000080\">/</span> train/actor_opt_actor_opt_grad_scale <span style=\"color: #008080; text-decoration-color: #008080; font-weight: bold\">1e4</span> <span style=\"color: #000080; text-decoration-color: #000080\">/</span> \n",
       "train/actor_opt_grad_norm <span style=\"color: #008080; text-decoration-color: #008080; font-weight: bold\">1.8e-4</span> <span style=\"color: #000080; text-decoration-color: #000080\">/</span> train/actor_opt_grad_steps <span style=\"color: #008080; text-decoration-color: #008080; font-weight: bold\">110</span> <span style=\"color: #000080; text-decoration-color: #000080\">/</span> train/actor_opt_loss <span style=\"color: #008080; text-decoration-color: #008080; font-weight: bold\">1107.4</span> <span style=\"color: #000080; text-decoration-color: #000080\">/</span> train/adv_mag \n",
       "<span style=\"color: #008080; text-decoration-color: #008080; font-weight: bold\">0.19</span> <span style=\"color: #000080; text-decoration-color: #000080\">/</span> train/adv_max <span style=\"color: #008080; text-decoration-color: #008080; font-weight: bold\">-0.02</span> <span style=\"color: #000080; text-decoration-color: #000080\">/</span> train/adv_mean <span style=\"color: #008080; text-decoration-color: #008080; font-weight: bold\">-0.11</span> <span style=\"color: #000080; text-decoration-color: #000080\">/</span> train/adv_min <span style=\"color: #008080; text-decoration-color: #008080; font-weight: bold\">-0.19</span> <span style=\"color: #000080; text-decoration-color: #000080\">/</span> train/adv_std <span style=\"color: #008080; text-decoration-color: #008080; font-weight: bold\">0.05</span> <span style=\"color: #000080; text-decoration-color: #000080\">/</span> train/cont_avg <span style=\"color: #008080; text-decoration-color: #008080; font-weight: bold\">0.99</span> \n",
       "<span style=\"color: #000080; text-decoration-color: #000080\">/</span> train/cont_loss_mean <span style=\"color: #008080; text-decoration-color: #008080; font-weight: bold\">0.05</span> <span style=\"color: #000080; text-decoration-color: #000080\">/</span> train/cont_loss_std <span style=\"color: #008080; text-decoration-color: #008080; font-weight: bold\">0.53</span> <span style=\"color: #000080; text-decoration-color: #000080\">/</span> train/cont_neg_acc <span style=\"color: #008080; text-decoration-color: #008080; font-weight: bold\">0</span> <span style=\"color: #000080; text-decoration-color: #000080\">/</span> train/cont_neg_loss <span style=\"color: #008080; text-decoration-color: #008080; font-weight: bold\">5.99</span> <span style=\"color: #000080; text-decoration-color: #000080\">/</span> \n",
       "train/cont_pos_acc <span style=\"color: #008080; text-decoration-color: #008080; font-weight: bold\">1</span> <span style=\"color: #000080; text-decoration-color: #000080\">/</span> train/cont_pos_loss <span style=\"color: #008080; text-decoration-color: #008080; font-weight: bold\">3.6e-3</span> <span style=\"color: #000080; text-decoration-color: #000080\">/</span> train/cont_pred <span style=\"color: #008080; text-decoration-color: #008080; font-weight: bold\">1</span> <span style=\"color: #000080; text-decoration-color: #000080\">/</span> train/cont_rate <span style=\"color: #008080; text-decoration-color: #008080; font-weight: bold\">0.99</span> <span style=\"color: #000080; text-decoration-color: #000080\">/</span> train/dyn_loss_mean \n",
       "<span style=\"color: #008080; text-decoration-color: #008080; font-weight: bold\">1</span> <span style=\"color: #000080; text-decoration-color: #000080\">/</span> train/dyn_loss_std <span style=\"color: #008080; text-decoration-color: #008080; font-weight: bold\">0</span> <span style=\"color: #000080; text-decoration-color: #000080\">/</span> train/extr_critic_critic_opt_critic_opt_grad_overflow <span style=\"color: #008080; text-decoration-color: #008080; font-weight: bold\">0</span> <span style=\"color: #000080; text-decoration-color: #000080\">/</span> \n",
       "train/extr_critic_critic_opt_critic_opt_grad_scale <span style=\"color: #008080; text-decoration-color: #008080; font-weight: bold\">1e4</span> <span style=\"color: #000080; text-decoration-color: #000080\">/</span> train/extr_critic_critic_opt_grad_norm <span style=\"color: #008080; text-decoration-color: #008080; font-weight: bold\">18.76</span> <span style=\"color: #000080; text-decoration-color: #000080\">/</span> \n",
       "train/extr_critic_critic_opt_grad_steps <span style=\"color: #008080; text-decoration-color: #008080; font-weight: bold\">110</span> <span style=\"color: #000080; text-decoration-color: #000080\">/</span> train/extr_critic_critic_opt_loss <span style=\"color: #008080; text-decoration-color: #008080; font-weight: bold\">7.4e4</span> <span style=\"color: #000080; text-decoration-color: #000080\">/</span> train/extr_critic_mag \n",
       "<span style=\"color: #008080; text-decoration-color: #008080; font-weight: bold\">4.7e-3</span> <span style=\"color: #000080; text-decoration-color: #000080\">/</span> train/extr_critic_max <span style=\"color: #008080; text-decoration-color: #008080; font-weight: bold\">-4.1e-3</span> <span style=\"color: #000080; text-decoration-color: #000080\">/</span> train/extr_critic_mean <span style=\"color: #008080; text-decoration-color: #008080; font-weight: bold\">-4.6e-3</span> <span style=\"color: #000080; text-decoration-color: #000080\">/</span> train/extr_critic_min <span style=\"color: #008080; text-decoration-color: #008080; font-weight: bold\">-4.7e-3</span> <span style=\"color: #000080; text-decoration-color: #000080\">/</span> \n",
       "train/extr_critic_std <span style=\"color: #008080; text-decoration-color: #008080; font-weight: bold\">5.2e-5</span> <span style=\"color: #000080; text-decoration-color: #000080\">/</span> train/extr_return_normed_mag <span style=\"color: #008080; text-decoration-color: #008080; font-weight: bold\">0.11</span> <span style=\"color: #000080; text-decoration-color: #000080\">/</span> train/extr_return_normed_max <span style=\"color: #008080; text-decoration-color: #008080; font-weight: bold\">0.07</span> <span style=\"color: #000080; text-decoration-color: #000080\">/</span> \n",
       "train/extr_return_normed_mean <span style=\"color: #008080; text-decoration-color: #008080; font-weight: bold\">-0.03</span> <span style=\"color: #000080; text-decoration-color: #000080\">/</span> train/extr_return_normed_min <span style=\"color: #008080; text-decoration-color: #008080; font-weight: bold\">-0.11</span> <span style=\"color: #000080; text-decoration-color: #000080\">/</span> train/extr_return_normed_std <span style=\"color: #008080; text-decoration-color: #008080; font-weight: bold\">0.05</span> <span style=\"color: #000080; text-decoration-color: #000080\">/</span> \n",
       "train/extr_return_rate <span style=\"color: #008080; text-decoration-color: #008080; font-weight: bold\">0</span> <span style=\"color: #000080; text-decoration-color: #000080\">/</span> train/extr_return_raw_mag <span style=\"color: #008080; text-decoration-color: #008080; font-weight: bold\">0.19</span> <span style=\"color: #000080; text-decoration-color: #000080\">/</span> train/extr_return_raw_max <span style=\"color: #008080; text-decoration-color: #008080; font-weight: bold\">-0.02</span> <span style=\"color: #000080; text-decoration-color: #000080\">/</span> \n",
       "train/extr_return_raw_mean <span style=\"color: #008080; text-decoration-color: #008080; font-weight: bold\">-0.12</span> <span style=\"color: #000080; text-decoration-color: #000080\">/</span> train/extr_return_raw_min <span style=\"color: #008080; text-decoration-color: #008080; font-weight: bold\">-0.19</span> <span style=\"color: #000080; text-decoration-color: #000080\">/</span> train/extr_return_raw_std <span style=\"color: #008080; text-decoration-color: #008080; font-weight: bold\">0.05</span> <span style=\"color: #000080; text-decoration-color: #000080\">/</span> \n",
       "train/extr_reward_mag <span style=\"color: #008080; text-decoration-color: #008080; font-weight: bold\">0.02</span> <span style=\"color: #000080; text-decoration-color: #000080\">/</span> train/extr_reward_max <span style=\"color: #008080; text-decoration-color: #008080; font-weight: bold\">-0.02</span> <span style=\"color: #000080; text-decoration-color: #000080\">/</span> train/extr_reward_mean <span style=\"color: #008080; text-decoration-color: #008080; font-weight: bold\">-0.02</span> <span style=\"color: #000080; text-decoration-color: #000080\">/</span> train/extr_reward_min \n",
       "<span style=\"color: #008080; text-decoration-color: #008080; font-weight: bold\">-0.02</span> <span style=\"color: #000080; text-decoration-color: #000080\">/</span> train/extr_reward_std <span style=\"color: #008080; text-decoration-color: #008080; font-weight: bold\">2.1e-5</span> <span style=\"color: #000080; text-decoration-color: #000080\">/</span> train/model_loss_mean <span style=\"color: #008080; text-decoration-color: #008080; font-weight: bold\">1.67</span> <span style=\"color: #000080; text-decoration-color: #000080\">/</span> train/model_loss_std <span style=\"color: #008080; text-decoration-color: #008080; font-weight: bold\">0.57</span> <span style=\"color: #000080; text-decoration-color: #000080\">/</span> \n",
       "train/model_opt_grad_norm <span style=\"color: #008080; text-decoration-color: #008080; font-weight: bold\">6.84</span> <span style=\"color: #000080; text-decoration-color: #000080\">/</span> train/model_opt_grad_steps <span style=\"color: #008080; text-decoration-color: #008080; font-weight: bold\">110</span> <span style=\"color: #000080; text-decoration-color: #000080\">/</span> train/model_opt_loss <span style=\"color: #008080; text-decoration-color: #008080; font-weight: bold\">1.7e4</span> <span style=\"color: #000080; text-decoration-color: #000080\">/</span> \n",
       "train/model_opt_model_opt_grad_overflow <span style=\"color: #008080; text-decoration-color: #008080; font-weight: bold\">0</span> <span style=\"color: #000080; text-decoration-color: #000080\">/</span> train/model_opt_model_opt_grad_scale <span style=\"color: #008080; text-decoration-color: #008080; font-weight: bold\">1e4</span> <span style=\"color: #000080; text-decoration-color: #000080\">/</span> train/policy_entropy_mag \n",
       "<span style=\"color: #008080; text-decoration-color: #008080; font-weight: bold\">2.83</span> <span style=\"color: #000080; text-decoration-color: #000080\">/</span> train/policy_entropy_max <span style=\"color: #008080; text-decoration-color: #008080; font-weight: bold\">2.83</span> <span style=\"color: #000080; text-decoration-color: #000080\">/</span> train/policy_entropy_mean <span style=\"color: #008080; text-decoration-color: #008080; font-weight: bold\">2.81</span> <span style=\"color: #000080; text-decoration-color: #000080\">/</span> train/policy_entropy_min <span style=\"color: #008080; text-decoration-color: #008080; font-weight: bold\">2.68</span> <span style=\"color: #000080; text-decoration-color: #000080\">/</span> \n",
       "train/policy_entropy_std <span style=\"color: #008080; text-decoration-color: #008080; font-weight: bold\">0.01</span> <span style=\"color: #000080; text-decoration-color: #000080\">/</span> train/policy_logprob_mag <span style=\"color: #008080; text-decoration-color: #008080; font-weight: bold\">10.51</span> <span style=\"color: #000080; text-decoration-color: #000080\">/</span> train/policy_logprob_max <span style=\"color: #008080; text-decoration-color: #008080; font-weight: bold\">-1.78</span> <span style=\"color: #000080; text-decoration-color: #000080\">/</span> \n",
       "train/policy_logprob_mean <span style=\"color: #008080; text-decoration-color: #008080; font-weight: bold\">-2.76</span> <span style=\"color: #000080; text-decoration-color: #000080\">/</span> train/policy_logprob_min <span style=\"color: #008080; text-decoration-color: #008080; font-weight: bold\">-10.51</span> <span style=\"color: #000080; text-decoration-color: #000080\">/</span> train/policy_logprob_std <span style=\"color: #008080; text-decoration-color: #008080; font-weight: bold\">0.93</span> <span style=\"color: #000080; text-decoration-color: #000080\">/</span> \n",
       "train/policy_randomness_mag <span style=\"color: #008080; text-decoration-color: #008080; font-weight: bold\">1</span> <span style=\"color: #000080; text-decoration-color: #000080\">/</span> train/policy_randomness_max <span style=\"color: #008080; text-decoration-color: #008080; font-weight: bold\">1</span> <span style=\"color: #000080; text-decoration-color: #000080\">/</span> train/policy_randomness_mean <span style=\"color: #008080; text-decoration-color: #008080; font-weight: bold\">0.99</span> <span style=\"color: #000080; text-decoration-color: #000080\">/</span> \n",
       "train/policy_randomness_min <span style=\"color: #008080; text-decoration-color: #008080; font-weight: bold\">0.97</span> <span style=\"color: #000080; text-decoration-color: #000080\">/</span> train/policy_randomness_std <span style=\"color: #008080; text-decoration-color: #008080; font-weight: bold\">2.3e-3</span> <span style=\"color: #000080; text-decoration-color: #000080\">/</span> train/post_ent_mag <span style=\"color: #008080; text-decoration-color: #008080; font-weight: bold\">106.04</span> <span style=\"color: #000080; text-decoration-color: #000080\">/</span> \n",
       "train/post_ent_max <span style=\"color: #008080; text-decoration-color: #008080; font-weight: bold\">106.04</span> <span style=\"color: #000080; text-decoration-color: #000080\">/</span> train/post_ent_mean <span style=\"color: #008080; text-decoration-color: #008080; font-weight: bold\">105.88</span> <span style=\"color: #000080; text-decoration-color: #000080\">/</span> train/post_ent_min <span style=\"color: #008080; text-decoration-color: #008080; font-weight: bold\">105.77</span> <span style=\"color: #000080; text-decoration-color: #000080\">/</span> train/post_ent_std <span style=\"color: #008080; text-decoration-color: #008080; font-weight: bold\">0.06</span> <span style=\"color: #000080; text-decoration-color: #000080\">/</span> \n",
       "train/prior_ent_mag <span style=\"color: #008080; text-decoration-color: #008080; font-weight: bold\">106.58</span> <span style=\"color: #000080; text-decoration-color: #000080\">/</span> train/prior_ent_max <span style=\"color: #008080; text-decoration-color: #008080; font-weight: bold\">106.58</span> <span style=\"color: #000080; text-decoration-color: #000080\">/</span> train/prior_ent_mean <span style=\"color: #008080; text-decoration-color: #008080; font-weight: bold\">106.33</span> <span style=\"color: #000080; text-decoration-color: #000080\">/</span> train/prior_ent_min <span style=\"color: #008080; text-decoration-color: #008080; font-weight: bold\">106.1</span> <span style=\"color: #000080; text-decoration-color: #000080\">/</span>\n",
       "train/prior_ent_std <span style=\"color: #008080; text-decoration-color: #008080; font-weight: bold\">0.11</span> <span style=\"color: #000080; text-decoration-color: #000080\">/</span> train/rep_loss_mean <span style=\"color: #008080; text-decoration-color: #008080; font-weight: bold\">1</span> <span style=\"color: #000080; text-decoration-color: #000080\">/</span> train/rep_loss_std <span style=\"color: #008080; text-decoration-color: #008080; font-weight: bold\">0</span> <span style=\"color: #000080; text-decoration-color: #000080\">/</span> train/reward_avg <span style=\"color: #008080; text-decoration-color: #008080; font-weight: bold\">-0.02</span> <span style=\"color: #000080; text-decoration-color: #000080\">/</span> \n",
       "train/reward_loss_mean <span style=\"color: #008080; text-decoration-color: #008080; font-weight: bold\">0.87</span> <span style=\"color: #000080; text-decoration-color: #000080\">/</span> train/reward_loss_std <span style=\"color: #008080; text-decoration-color: #008080; font-weight: bold\">0.16</span> <span style=\"color: #000080; text-decoration-color: #000080\">/</span> train/reward_max_data <span style=\"color: #008080; text-decoration-color: #008080; font-weight: bold\">0.13</span> <span style=\"color: #000080; text-decoration-color: #000080\">/</span> train/reward_max_pred <span style=\"color: #008080; text-decoration-color: #008080; font-weight: bold\">0.02</span> \n",
       "<span style=\"color: #000080; text-decoration-color: #000080\">/</span> train/reward_neg_acc <span style=\"color: #008080; text-decoration-color: #008080; font-weight: bold\">1</span> <span style=\"color: #000080; text-decoration-color: #000080\">/</span> train/reward_neg_loss <span style=\"color: #008080; text-decoration-color: #008080; font-weight: bold\">0.87</span> <span style=\"color: #000080; text-decoration-color: #000080\">/</span> train/reward_pos_acc nan <span style=\"color: #000080; text-decoration-color: #000080\">/</span> train/reward_pos_loss nan <span style=\"color: #000080; text-decoration-color: #000080\">/</span> \n",
       "train/reward_pred <span style=\"color: #008080; text-decoration-color: #008080; font-weight: bold\">-0.02</span> <span style=\"color: #000080; text-decoration-color: #000080\">/</span> train/reward_rate <span style=\"color: #008080; text-decoration-color: #008080; font-weight: bold\">0</span> <span style=\"color: #000080; text-decoration-color: #000080\">/</span> train/vector_loss_mean <span style=\"color: #008080; text-decoration-color: #008080; font-weight: bold\">0.15</span> <span style=\"color: #000080; text-decoration-color: #000080\">/</span> train/vector_loss_std <span style=\"color: #008080; text-decoration-color: #008080; font-weight: bold\">0.09</span> <span style=\"color: #000080; text-decoration-color: #000080\">/</span> \n",
       "replay/size <span style=\"color: #008080; text-decoration-color: #008080; font-weight: bold\">3632</span> <span style=\"color: #000080; text-decoration-color: #000080\">/</span> replay/inserts <span style=\"color: #008080; text-decoration-color: #008080; font-weight: bold\">30</span> <span style=\"color: #000080; text-decoration-color: #000080\">/</span> replay/samples <span style=\"color: #008080; text-decoration-color: #008080; font-weight: bold\">112</span> <span style=\"color: #000080; text-decoration-color: #000080\">/</span> replay/insert_wait_avg <span style=\"color: #008080; text-decoration-color: #008080; font-weight: bold\">5.4e-6</span> <span style=\"color: #000080; text-decoration-color: #000080\">/</span> replay/insert_wait_frac\n",
       "<span style=\"color: #008080; text-decoration-color: #008080; font-weight: bold\">1</span> <span style=\"color: #000080; text-decoration-color: #000080\">/</span> replay/sample_wait_avg <span style=\"color: #008080; text-decoration-color: #008080; font-weight: bold\">1.5e-6</span> <span style=\"color: #000080; text-decoration-color: #000080\">/</span> replay/sample_wait_frac <span style=\"color: #008080; text-decoration-color: #008080; font-weight: bold\">1</span> <span style=\"color: #000080; text-decoration-color: #000080\">/</span> timer/duration <span style=\"color: #008080; text-decoration-color: #008080; font-weight: bold\">156.56</span> <span style=\"color: #000080; text-decoration-color: #000080\">/</span> timer/logger.write_count <span style=\"color: #008080; text-decoration-color: #008080; font-weight: bold\">1</span> \n",
       "<span style=\"color: #000080; text-decoration-color: #000080\">/</span> timer/logger.write_total <span style=\"color: #008080; text-decoration-color: #008080; font-weight: bold\">0.01</span> <span style=\"color: #000080; text-decoration-color: #000080\">/</span> timer/logger.write_frac <span style=\"color: #008080; text-decoration-color: #008080; font-weight: bold\">8.9e-5</span> <span style=\"color: #000080; text-decoration-color: #000080\">/</span> timer/logger.write_avg <span style=\"color: #008080; text-decoration-color: #008080; font-weight: bold\">0.01</span> <span style=\"color: #000080; text-decoration-color: #000080\">/</span> \n",
       "timer/logger.write_min <span style=\"color: #008080; text-decoration-color: #008080; font-weight: bold\">0.01</span> <span style=\"color: #000080; text-decoration-color: #000080\">/</span> timer/logger.write_max <span style=\"color: #008080; text-decoration-color: #008080; font-weight: bold\">0.01</span> <span style=\"color: #000080; text-decoration-color: #000080\">/</span> timer/replay.add_count <span style=\"color: #008080; text-decoration-color: #008080; font-weight: bold\">30</span> <span style=\"color: #000080; text-decoration-color: #000080\">/</span> timer/replay.add_total <span style=\"color: #008080; text-decoration-color: #008080; font-weight: bold\">0.01</span>\n",
       "<span style=\"color: #000080; text-decoration-color: #000080\">/</span> timer/replay.add_frac <span style=\"color: #008080; text-decoration-color: #008080; font-weight: bold\">7.4e-5</span> <span style=\"color: #000080; text-decoration-color: #000080\">/</span> timer/replay.add_avg <span style=\"color: #008080; text-decoration-color: #008080; font-weight: bold\">3.9e-4</span> <span style=\"color: #000080; text-decoration-color: #000080\">/</span> timer/replay.add_min <span style=\"color: #008080; text-decoration-color: #008080; font-weight: bold\">1.6e-4</span> <span style=\"color: #000080; text-decoration-color: #000080\">/</span> timer/replay.add_max \n",
       "<span style=\"color: #008080; text-decoration-color: #008080; font-weight: bold\">6.5e-4</span> <span style=\"color: #000080; text-decoration-color: #000080\">/</span> timer/checkpoint.load_count <span style=\"color: #008080; text-decoration-color: #008080; font-weight: bold\">0</span> <span style=\"color: #000080; text-decoration-color: #000080\">/</span> timer/checkpoint.load_total <span style=\"color: #008080; text-decoration-color: #008080; font-weight: bold\">0</span> <span style=\"color: #000080; text-decoration-color: #000080\">/</span> timer/checkpoint.load_frac <span style=\"color: #008080; text-decoration-color: #008080; font-weight: bold\">0</span> <span style=\"color: #000080; text-decoration-color: #000080\">/</span> \n",
       "timer/env.step_count <span style=\"color: #008080; text-decoration-color: #008080; font-weight: bold\">30</span> <span style=\"color: #000080; text-decoration-color: #000080\">/</span> timer/env.step_total <span style=\"color: #008080; text-decoration-color: #008080; font-weight: bold\">148.52</span> <span style=\"color: #000080; text-decoration-color: #000080\">/</span> timer/env.step_frac <span style=\"color: #008080; text-decoration-color: #008080; font-weight: bold\">0.95</span> <span style=\"color: #000080; text-decoration-color: #000080\">/</span> timer/env.step_avg <span style=\"color: #008080; text-decoration-color: #008080; font-weight: bold\">4.95</span> <span style=\"color: #000080; text-decoration-color: #000080\">/</span> \n",
       "timer/env.step_min <span style=\"color: #008080; text-decoration-color: #008080; font-weight: bold\">4.9</span> <span style=\"color: #000080; text-decoration-color: #000080\">/</span> timer/env.step_max <span style=\"color: #008080; text-decoration-color: #008080; font-weight: bold\">5.03</span> <span style=\"color: #000080; text-decoration-color: #000080\">/</span> timer/agent.policy_count <span style=\"color: #008080; text-decoration-color: #008080; font-weight: bold\">30</span> <span style=\"color: #000080; text-decoration-color: #000080\">/</span> timer/agent.policy_total <span style=\"color: #008080; text-decoration-color: #008080; font-weight: bold\">0.3</span> <span style=\"color: #000080; text-decoration-color: #000080\">/</span> \n",
       "timer/agent.policy_frac <span style=\"color: #008080; text-decoration-color: #008080; font-weight: bold\">1.9e-3</span> <span style=\"color: #000080; text-decoration-color: #000080\">/</span> timer/agent.policy_avg <span style=\"color: #008080; text-decoration-color: #008080; font-weight: bold\">1e-2</span> <span style=\"color: #000080; text-decoration-color: #000080\">/</span> timer/agent.policy_min <span style=\"color: #008080; text-decoration-color: #008080; font-weight: bold\">8.7e-3</span> <span style=\"color: #000080; text-decoration-color: #000080\">/</span> \n",
       "timer/agent.policy_max <span style=\"color: #008080; text-decoration-color: #008080; font-weight: bold\">0.02</span> <span style=\"color: #000080; text-decoration-color: #000080\">/</span> timer/dataset_count <span style=\"color: #008080; text-decoration-color: #008080; font-weight: bold\">7</span> <span style=\"color: #000080; text-decoration-color: #000080\">/</span> timer/dataset_total <span style=\"color: #008080; text-decoration-color: #008080; font-weight: bold\">7.5e-4</span> <span style=\"color: #000080; text-decoration-color: #000080\">/</span> timer/dataset_frac <span style=\"color: #008080; text-decoration-color: #008080; font-weight: bold\">4.8e-6</span> <span style=\"color: #000080; text-decoration-color: #000080\">/</span> \n",
       "timer/dataset_avg <span style=\"color: #008080; text-decoration-color: #008080; font-weight: bold\">1.1e-4</span> <span style=\"color: #000080; text-decoration-color: #000080\">/</span> timer/dataset_min <span style=\"color: #008080; text-decoration-color: #008080; font-weight: bold\">7.9e-5</span> <span style=\"color: #000080; text-decoration-color: #000080\">/</span> timer/dataset_max <span style=\"color: #008080; text-decoration-color: #008080; font-weight: bold\">1.4e-4</span> <span style=\"color: #000080; text-decoration-color: #000080\">/</span> timer/agent.train_count <span style=\"color: #008080; text-decoration-color: #008080; font-weight: bold\">7</span> <span style=\"color: #000080; text-decoration-color: #000080\">/</span> \n",
       "timer/agent.train_total <span style=\"color: #008080; text-decoration-color: #008080; font-weight: bold\">7.63</span> <span style=\"color: #000080; text-decoration-color: #000080\">/</span> timer/agent.train_frac <span style=\"color: #008080; text-decoration-color: #008080; font-weight: bold\">0.05</span> <span style=\"color: #000080; text-decoration-color: #000080\">/</span> timer/agent.train_avg <span style=\"color: #008080; text-decoration-color: #008080; font-weight: bold\">1.09</span> <span style=\"color: #000080; text-decoration-color: #000080\">/</span> timer/agent.train_min \n",
       "<span style=\"color: #008080; text-decoration-color: #008080; font-weight: bold\">1.05</span> <span style=\"color: #000080; text-decoration-color: #000080\">/</span> timer/agent.train_max <span style=\"color: #008080; text-decoration-color: #008080; font-weight: bold\">1.13</span> <span style=\"color: #000080; text-decoration-color: #000080\">/</span> timer/agent.report_count <span style=\"color: #008080; text-decoration-color: #008080; font-weight: bold\">1</span> <span style=\"color: #000080; text-decoration-color: #000080\">/</span> timer/agent.report_total <span style=\"color: #008080; text-decoration-color: #008080; font-weight: bold\">0.06</span> <span style=\"color: #000080; text-decoration-color: #000080\">/</span> \n",
       "timer/agent.report_frac <span style=\"color: #008080; text-decoration-color: #008080; font-weight: bold\">4.1e-4</span> <span style=\"color: #000080; text-decoration-color: #000080\">/</span> timer/agent.report_avg <span style=\"color: #008080; text-decoration-color: #008080; font-weight: bold\">0.06</span> <span style=\"color: #000080; text-decoration-color: #000080\">/</span> timer/agent.report_min <span style=\"color: #008080; text-decoration-color: #008080; font-weight: bold\">0.06</span> <span style=\"color: #000080; text-decoration-color: #000080\">/</span> timer/agent.report_max\n",
       "<span style=\"color: #008080; text-decoration-color: #008080; font-weight: bold\">0.06</span> <span style=\"color: #000080; text-decoration-color: #000080\">/</span> fps <span style=\"color: #008080; text-decoration-color: #008080; font-weight: bold\">0.19</span>\n",
       "</pre>\n"
      ],
      "text/plain": [
       "train/action_mag \u001b[1;36m4.43\u001b[0m \u001b[34m/\u001b[0m train/action_max \u001b[1;36m3.71\u001b[0m \u001b[34m/\u001b[0m train/action_mean \u001b[1;36m3.8e-3\u001b[0m \u001b[34m/\u001b[0m train/action_min \u001b[1;36m-4.43\u001b[0m \u001b[34m/\u001b[0m \n",
       "train/action_std \u001b[1;36m1.31\u001b[0m \u001b[34m/\u001b[0m train/actor_opt_actor_opt_grad_overflow \u001b[1;36m0\u001b[0m \u001b[34m/\u001b[0m train/actor_opt_actor_opt_grad_scale \u001b[1;36m1e4\u001b[0m \u001b[34m/\u001b[0m \n",
       "train/actor_opt_grad_norm \u001b[1;36m1.8e-4\u001b[0m \u001b[34m/\u001b[0m train/actor_opt_grad_steps \u001b[1;36m110\u001b[0m \u001b[34m/\u001b[0m train/actor_opt_loss \u001b[1;36m1107.4\u001b[0m \u001b[34m/\u001b[0m train/adv_mag \n",
       "\u001b[1;36m0.19\u001b[0m \u001b[34m/\u001b[0m train/adv_max \u001b[1;36m-0.02\u001b[0m \u001b[34m/\u001b[0m train/adv_mean \u001b[1;36m-0.11\u001b[0m \u001b[34m/\u001b[0m train/adv_min \u001b[1;36m-0.19\u001b[0m \u001b[34m/\u001b[0m train/adv_std \u001b[1;36m0.05\u001b[0m \u001b[34m/\u001b[0m train/cont_avg \u001b[1;36m0.99\u001b[0m \n",
       "\u001b[34m/\u001b[0m train/cont_loss_mean \u001b[1;36m0.05\u001b[0m \u001b[34m/\u001b[0m train/cont_loss_std \u001b[1;36m0.53\u001b[0m \u001b[34m/\u001b[0m train/cont_neg_acc \u001b[1;36m0\u001b[0m \u001b[34m/\u001b[0m train/cont_neg_loss \u001b[1;36m5.99\u001b[0m \u001b[34m/\u001b[0m \n",
       "train/cont_pos_acc \u001b[1;36m1\u001b[0m \u001b[34m/\u001b[0m train/cont_pos_loss \u001b[1;36m3.6e-3\u001b[0m \u001b[34m/\u001b[0m train/cont_pred \u001b[1;36m1\u001b[0m \u001b[34m/\u001b[0m train/cont_rate \u001b[1;36m0.99\u001b[0m \u001b[34m/\u001b[0m train/dyn_loss_mean \n",
       "\u001b[1;36m1\u001b[0m \u001b[34m/\u001b[0m train/dyn_loss_std \u001b[1;36m0\u001b[0m \u001b[34m/\u001b[0m train/extr_critic_critic_opt_critic_opt_grad_overflow \u001b[1;36m0\u001b[0m \u001b[34m/\u001b[0m \n",
       "train/extr_critic_critic_opt_critic_opt_grad_scale \u001b[1;36m1e4\u001b[0m \u001b[34m/\u001b[0m train/extr_critic_critic_opt_grad_norm \u001b[1;36m18.76\u001b[0m \u001b[34m/\u001b[0m \n",
       "train/extr_critic_critic_opt_grad_steps \u001b[1;36m110\u001b[0m \u001b[34m/\u001b[0m train/extr_critic_critic_opt_loss \u001b[1;36m7.4e4\u001b[0m \u001b[34m/\u001b[0m train/extr_critic_mag \n",
       "\u001b[1;36m4.7e-3\u001b[0m \u001b[34m/\u001b[0m train/extr_critic_max \u001b[1;36m-4.1e-3\u001b[0m \u001b[34m/\u001b[0m train/extr_critic_mean \u001b[1;36m-4.6e-3\u001b[0m \u001b[34m/\u001b[0m train/extr_critic_min \u001b[1;36m-4.7e-3\u001b[0m \u001b[34m/\u001b[0m \n",
       "train/extr_critic_std \u001b[1;36m5.2e-5\u001b[0m \u001b[34m/\u001b[0m train/extr_return_normed_mag \u001b[1;36m0.11\u001b[0m \u001b[34m/\u001b[0m train/extr_return_normed_max \u001b[1;36m0.07\u001b[0m \u001b[34m/\u001b[0m \n",
       "train/extr_return_normed_mean \u001b[1;36m-0.03\u001b[0m \u001b[34m/\u001b[0m train/extr_return_normed_min \u001b[1;36m-0.11\u001b[0m \u001b[34m/\u001b[0m train/extr_return_normed_std \u001b[1;36m0.05\u001b[0m \u001b[34m/\u001b[0m \n",
       "train/extr_return_rate \u001b[1;36m0\u001b[0m \u001b[34m/\u001b[0m train/extr_return_raw_mag \u001b[1;36m0.19\u001b[0m \u001b[34m/\u001b[0m train/extr_return_raw_max \u001b[1;36m-0.02\u001b[0m \u001b[34m/\u001b[0m \n",
       "train/extr_return_raw_mean \u001b[1;36m-0.12\u001b[0m \u001b[34m/\u001b[0m train/extr_return_raw_min \u001b[1;36m-0.19\u001b[0m \u001b[34m/\u001b[0m train/extr_return_raw_std \u001b[1;36m0.05\u001b[0m \u001b[34m/\u001b[0m \n",
       "train/extr_reward_mag \u001b[1;36m0.02\u001b[0m \u001b[34m/\u001b[0m train/extr_reward_max \u001b[1;36m-0.02\u001b[0m \u001b[34m/\u001b[0m train/extr_reward_mean \u001b[1;36m-0.02\u001b[0m \u001b[34m/\u001b[0m train/extr_reward_min \n",
       "\u001b[1;36m-0.02\u001b[0m \u001b[34m/\u001b[0m train/extr_reward_std \u001b[1;36m2.1e-5\u001b[0m \u001b[34m/\u001b[0m train/model_loss_mean \u001b[1;36m1.67\u001b[0m \u001b[34m/\u001b[0m train/model_loss_std \u001b[1;36m0.57\u001b[0m \u001b[34m/\u001b[0m \n",
       "train/model_opt_grad_norm \u001b[1;36m6.84\u001b[0m \u001b[34m/\u001b[0m train/model_opt_grad_steps \u001b[1;36m110\u001b[0m \u001b[34m/\u001b[0m train/model_opt_loss \u001b[1;36m1.7e4\u001b[0m \u001b[34m/\u001b[0m \n",
       "train/model_opt_model_opt_grad_overflow \u001b[1;36m0\u001b[0m \u001b[34m/\u001b[0m train/model_opt_model_opt_grad_scale \u001b[1;36m1e4\u001b[0m \u001b[34m/\u001b[0m train/policy_entropy_mag \n",
       "\u001b[1;36m2.83\u001b[0m \u001b[34m/\u001b[0m train/policy_entropy_max \u001b[1;36m2.83\u001b[0m \u001b[34m/\u001b[0m train/policy_entropy_mean \u001b[1;36m2.81\u001b[0m \u001b[34m/\u001b[0m train/policy_entropy_min \u001b[1;36m2.68\u001b[0m \u001b[34m/\u001b[0m \n",
       "train/policy_entropy_std \u001b[1;36m0.01\u001b[0m \u001b[34m/\u001b[0m train/policy_logprob_mag \u001b[1;36m10.51\u001b[0m \u001b[34m/\u001b[0m train/policy_logprob_max \u001b[1;36m-1.78\u001b[0m \u001b[34m/\u001b[0m \n",
       "train/policy_logprob_mean \u001b[1;36m-2.76\u001b[0m \u001b[34m/\u001b[0m train/policy_logprob_min \u001b[1;36m-10.51\u001b[0m \u001b[34m/\u001b[0m train/policy_logprob_std \u001b[1;36m0.93\u001b[0m \u001b[34m/\u001b[0m \n",
       "train/policy_randomness_mag \u001b[1;36m1\u001b[0m \u001b[34m/\u001b[0m train/policy_randomness_max \u001b[1;36m1\u001b[0m \u001b[34m/\u001b[0m train/policy_randomness_mean \u001b[1;36m0.99\u001b[0m \u001b[34m/\u001b[0m \n",
       "train/policy_randomness_min \u001b[1;36m0.97\u001b[0m \u001b[34m/\u001b[0m train/policy_randomness_std \u001b[1;36m2.3e-3\u001b[0m \u001b[34m/\u001b[0m train/post_ent_mag \u001b[1;36m106.04\u001b[0m \u001b[34m/\u001b[0m \n",
       "train/post_ent_max \u001b[1;36m106.04\u001b[0m \u001b[34m/\u001b[0m train/post_ent_mean \u001b[1;36m105.88\u001b[0m \u001b[34m/\u001b[0m train/post_ent_min \u001b[1;36m105.77\u001b[0m \u001b[34m/\u001b[0m train/post_ent_std \u001b[1;36m0.06\u001b[0m \u001b[34m/\u001b[0m \n",
       "train/prior_ent_mag \u001b[1;36m106.58\u001b[0m \u001b[34m/\u001b[0m train/prior_ent_max \u001b[1;36m106.58\u001b[0m \u001b[34m/\u001b[0m train/prior_ent_mean \u001b[1;36m106.33\u001b[0m \u001b[34m/\u001b[0m train/prior_ent_min \u001b[1;36m106.1\u001b[0m \u001b[34m/\u001b[0m\n",
       "train/prior_ent_std \u001b[1;36m0.11\u001b[0m \u001b[34m/\u001b[0m train/rep_loss_mean \u001b[1;36m1\u001b[0m \u001b[34m/\u001b[0m train/rep_loss_std \u001b[1;36m0\u001b[0m \u001b[34m/\u001b[0m train/reward_avg \u001b[1;36m-0.02\u001b[0m \u001b[34m/\u001b[0m \n",
       "train/reward_loss_mean \u001b[1;36m0.87\u001b[0m \u001b[34m/\u001b[0m train/reward_loss_std \u001b[1;36m0.16\u001b[0m \u001b[34m/\u001b[0m train/reward_max_data \u001b[1;36m0.13\u001b[0m \u001b[34m/\u001b[0m train/reward_max_pred \u001b[1;36m0.02\u001b[0m \n",
       "\u001b[34m/\u001b[0m train/reward_neg_acc \u001b[1;36m1\u001b[0m \u001b[34m/\u001b[0m train/reward_neg_loss \u001b[1;36m0.87\u001b[0m \u001b[34m/\u001b[0m train/reward_pos_acc nan \u001b[34m/\u001b[0m train/reward_pos_loss nan \u001b[34m/\u001b[0m \n",
       "train/reward_pred \u001b[1;36m-0.02\u001b[0m \u001b[34m/\u001b[0m train/reward_rate \u001b[1;36m0\u001b[0m \u001b[34m/\u001b[0m train/vector_loss_mean \u001b[1;36m0.15\u001b[0m \u001b[34m/\u001b[0m train/vector_loss_std \u001b[1;36m0.09\u001b[0m \u001b[34m/\u001b[0m \n",
       "replay/size \u001b[1;36m3632\u001b[0m \u001b[34m/\u001b[0m replay/inserts \u001b[1;36m30\u001b[0m \u001b[34m/\u001b[0m replay/samples \u001b[1;36m112\u001b[0m \u001b[34m/\u001b[0m replay/insert_wait_avg \u001b[1;36m5.4e-6\u001b[0m \u001b[34m/\u001b[0m replay/insert_wait_frac\n",
       "\u001b[1;36m1\u001b[0m \u001b[34m/\u001b[0m replay/sample_wait_avg \u001b[1;36m1.5e-6\u001b[0m \u001b[34m/\u001b[0m replay/sample_wait_frac \u001b[1;36m1\u001b[0m \u001b[34m/\u001b[0m timer/duration \u001b[1;36m156.56\u001b[0m \u001b[34m/\u001b[0m timer/logger.write_count \u001b[1;36m1\u001b[0m \n",
       "\u001b[34m/\u001b[0m timer/logger.write_total \u001b[1;36m0.01\u001b[0m \u001b[34m/\u001b[0m timer/logger.write_frac \u001b[1;36m8.9e-5\u001b[0m \u001b[34m/\u001b[0m timer/logger.write_avg \u001b[1;36m0.01\u001b[0m \u001b[34m/\u001b[0m \n",
       "timer/logger.write_min \u001b[1;36m0.01\u001b[0m \u001b[34m/\u001b[0m timer/logger.write_max \u001b[1;36m0.01\u001b[0m \u001b[34m/\u001b[0m timer/replay.add_count \u001b[1;36m30\u001b[0m \u001b[34m/\u001b[0m timer/replay.add_total \u001b[1;36m0.01\u001b[0m\n",
       "\u001b[34m/\u001b[0m timer/replay.add_frac \u001b[1;36m7.4e-5\u001b[0m \u001b[34m/\u001b[0m timer/replay.add_avg \u001b[1;36m3.9e-4\u001b[0m \u001b[34m/\u001b[0m timer/replay.add_min \u001b[1;36m1.6e-4\u001b[0m \u001b[34m/\u001b[0m timer/replay.add_max \n",
       "\u001b[1;36m6.5e-4\u001b[0m \u001b[34m/\u001b[0m timer/checkpoint.load_count \u001b[1;36m0\u001b[0m \u001b[34m/\u001b[0m timer/checkpoint.load_total \u001b[1;36m0\u001b[0m \u001b[34m/\u001b[0m timer/checkpoint.load_frac \u001b[1;36m0\u001b[0m \u001b[34m/\u001b[0m \n",
       "timer/env.step_count \u001b[1;36m30\u001b[0m \u001b[34m/\u001b[0m timer/env.step_total \u001b[1;36m148.52\u001b[0m \u001b[34m/\u001b[0m timer/env.step_frac \u001b[1;36m0.95\u001b[0m \u001b[34m/\u001b[0m timer/env.step_avg \u001b[1;36m4.95\u001b[0m \u001b[34m/\u001b[0m \n",
       "timer/env.step_min \u001b[1;36m4.9\u001b[0m \u001b[34m/\u001b[0m timer/env.step_max \u001b[1;36m5.03\u001b[0m \u001b[34m/\u001b[0m timer/agent.policy_count \u001b[1;36m30\u001b[0m \u001b[34m/\u001b[0m timer/agent.policy_total \u001b[1;36m0.3\u001b[0m \u001b[34m/\u001b[0m \n",
       "timer/agent.policy_frac \u001b[1;36m1.9e-3\u001b[0m \u001b[34m/\u001b[0m timer/agent.policy_avg \u001b[1;36m1e-2\u001b[0m \u001b[34m/\u001b[0m timer/agent.policy_min \u001b[1;36m8.7e-3\u001b[0m \u001b[34m/\u001b[0m \n",
       "timer/agent.policy_max \u001b[1;36m0.02\u001b[0m \u001b[34m/\u001b[0m timer/dataset_count \u001b[1;36m7\u001b[0m \u001b[34m/\u001b[0m timer/dataset_total \u001b[1;36m7.5e-4\u001b[0m \u001b[34m/\u001b[0m timer/dataset_frac \u001b[1;36m4.8e-6\u001b[0m \u001b[34m/\u001b[0m \n",
       "timer/dataset_avg \u001b[1;36m1.1e-4\u001b[0m \u001b[34m/\u001b[0m timer/dataset_min \u001b[1;36m7.9e-5\u001b[0m \u001b[34m/\u001b[0m timer/dataset_max \u001b[1;36m1.4e-4\u001b[0m \u001b[34m/\u001b[0m timer/agent.train_count \u001b[1;36m7\u001b[0m \u001b[34m/\u001b[0m \n",
       "timer/agent.train_total \u001b[1;36m7.63\u001b[0m \u001b[34m/\u001b[0m timer/agent.train_frac \u001b[1;36m0.05\u001b[0m \u001b[34m/\u001b[0m timer/agent.train_avg \u001b[1;36m1.09\u001b[0m \u001b[34m/\u001b[0m timer/agent.train_min \n",
       "\u001b[1;36m1.05\u001b[0m \u001b[34m/\u001b[0m timer/agent.train_max \u001b[1;36m1.13\u001b[0m \u001b[34m/\u001b[0m timer/agent.report_count \u001b[1;36m1\u001b[0m \u001b[34m/\u001b[0m timer/agent.report_total \u001b[1;36m0.06\u001b[0m \u001b[34m/\u001b[0m \n",
       "timer/agent.report_frac \u001b[1;36m4.1e-4\u001b[0m \u001b[34m/\u001b[0m timer/agent.report_avg \u001b[1;36m0.06\u001b[0m \u001b[34m/\u001b[0m timer/agent.report_min \u001b[1;36m0.06\u001b[0m \u001b[34m/\u001b[0m timer/agent.report_max\n",
       "\u001b[1;36m0.06\u001b[0m \u001b[34m/\u001b[0m fps \u001b[1;36m0.19\u001b[0m\n"
      ]
     },
     "metadata": {},
     "output_type": "display_data"
    },
    {
     "name": "stdout",
     "output_type": "stream",
     "text": [
      "\n",
      "step in driver:  60\n",
      "step in driver:  61\n",
      "step in driver:  62\n",
      "step in driver:  63\n",
      "step in driver:  64\n",
      "step in driver:  65\n",
      "step in driver:  66\n",
      "step in driver:  67\n",
      "step in driver:  68\n",
      "step in driver:  69\n",
      "step in driver:  70\n",
      "step in driver:  71\n",
      "step in driver:  72\n",
      "step in driver:  73\n",
      "step in driver:  74\n",
      "step in driver:  75\n",
      "step in driver:  76\n",
      "step in driver:  77\n",
      "step in driver:  78\n",
      "step in driver:  79\n",
      "step in driver:  80\n",
      "step in driver:  81\n",
      "step in driver:  82\n"
     ]
    }
   ],
   "source": [
    "embodied.run.train(agent, env, replay, logger, args)"
   ]
  },
  {
   "cell_type": "code",
   "execution_count": null,
   "metadata": {},
   "outputs": [],
   "source": []
  },
  {
   "cell_type": "code",
   "execution_count": null,
   "metadata": {},
   "outputs": [],
   "source": []
  }
 ],
 "metadata": {
  "kernelspec": {
   "display_name": "Python [conda env:dreamer_cyl2]",
   "language": "python",
   "name": "conda-env-dreamer_cyl2-py"
  },
  "language_info": {
   "codemirror_mode": {
    "name": "ipython",
    "version": 3
   },
   "file_extension": ".py",
   "mimetype": "text/x-python",
   "name": "python",
   "nbconvert_exporter": "python",
   "pygments_lexer": "ipython3",
   "version": "3.10.6"
  }
 },
 "nbformat": 4,
 "nbformat_minor": 2
}
