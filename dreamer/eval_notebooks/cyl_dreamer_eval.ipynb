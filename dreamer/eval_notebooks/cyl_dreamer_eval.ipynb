{
 "cells": [
  {
   "cell_type": "code",
   "execution_count": null,
   "metadata": {},
   "outputs": [],
   "source": [
    "import os\n",
    "\n",
    "os.chdir(\"../\")\n",
    "print(os.getcwd())"
   ]
  },
  {
   "cell_type": "code",
   "execution_count": 4,
   "metadata": {},
   "outputs": [
    {
     "name": "stdout",
     "output_type": "stream",
     "text": [
      "/bin/bash: which: line 1: syntax error: unexpected end of file\n",
      "/bin/bash: error importing function definition for `which'\n",
      "/bin/bash: module: line 1: syntax error: unexpected end of file\n",
      "/bin/bash: error importing function definition for `module'\n",
      "/bin/bash: scl: line 1: syntax error: unexpected end of file\n",
      "/bin/bash: error importing function definition for `scl'\n",
      "/bin/bash: ml: line 1: syntax error: unexpected end of file\n",
      "/bin/bash: error importing function definition for `ml'\n",
      "/bin/bash: /rds/general/user/pg221/home/anaconda3/envs/dreamer_cyl2/lib/: Is a directory\n"
     ]
    }
   ],
   "source": [
    "!~/anaconda3/envs/dreamer_cyl2/lib/"
   ]
  },
  {
   "cell_type": "code",
   "execution_count": 2,
   "metadata": {},
   "outputs": [
    {
     "name": "stdout",
     "output_type": "stream",
     "text": [
      "/bin/bash: which: line 1: syntax error: unexpected end of file\n",
      "/bin/bash: error importing function definition for `which'\n",
      "/bin/bash: module: line 1: syntax error: unexpected end of file\n",
      "/bin/bash: error importing function definition for `module'\n",
      "/bin/bash: scl: line 1: syntax error: unexpected end of file\n",
      "/bin/bash: error importing function definition for `scl'\n",
      "/bin/bash: ml: line 1: syntax error: unexpected end of file\n",
      "/bin/bash: error importing function definition for `ml'\n",
      "\n",
      "~/anaconda3/envs/dreamer_cyl2/lib/:$LD_LIBRARY_PATH\n"
     ]
    }
   ],
   "source": [
    "!echo $LD_LIBRARY_PATH\n",
    "os.environ['LD_LIBRARY_PATH'] = '~/anaconda3/envs/dreamer_cyl2/lib/:$LD_LIBRARY_PATH'\n",
    "print(os.environ['LD_LIBRARY_PATH'])"
   ]
  },
  {
   "cell_type": "code",
   "execution_count": null,
   "metadata": {},
   "outputs": [],
   "source": [
    "# python main_cyl.py --imag_horizon 15 --envs.amount 50 --jax.platform cpu \\\n",
    "#                    --logdir  ~/PhD_projects2/dreamer_flows/dreamer/logdir/Cyl/First_Test\n",
    "\n",
    "import subprocess\n",
    "\n",
    "# Define the command to run the Python script\n",
    "command = 'python run_files/main_train_eval_cyl.py --jax.platform cpu \\\n",
    "               --envs.amount 2 --envs.parallel process\\\n",
    "               --loss_scales.reward 10 \\\n",
    "               --run.eval_every 20 \\\n",
    "               --imag_horizon 20 \\\n",
    "               --rssm.deter 128 --.*\\.units=128 --.*\\.layers=1 \\\n",
    "               --cyl.random_start 10 \\\n",
    "               --logdir_dirname CYl_Exp/Test \\\n",
    "               --logdir_expname test_notebook '\n",
    "\n",
    "# Run the command in a subprocess, using the current environment with the updated variable\n",
    "result = subprocess.run(command, shell=True, env=os.environ)\n",
    "\n",
    "# Check the result\n",
    "print(f'Return code: {result.returncode}')"
   ]
  },
  {
   "cell_type": "markdown",
   "metadata": {},
   "source": [
    "# Read Drag values while training"
   ]
  },
  {
   "cell_type": "code",
   "execution_count": 3,
   "metadata": {},
   "outputs": [],
   "source": [
    "# def load(filename=None, keys=None):\n",
    "# #     filename = path.Path(filename)\n",
    "#     print(f'Loading checkpoint: {filename}')\n",
    "#     file = open(filename, 'rb')\n",
    "#     load_data = pickle.load(file)\n",
    "# #     keys = tuple(data.keys() if keys is None else keys)\n",
    "#     return load_data\n",
    "# #     for key in keys:\n",
    "# #       if key.startswith('_'):\n",
    "# #         continue\n",
    "# #       try:\n",
    "# #         values[key].load(data[key])\n",
    "# #       except Exception:\n",
    "# #         print(f'Error loading {key} from checkpoint.')\n",
    "# #         raise\n",
    "# #     if self._log:\n",
    "# #       age = time.time() - data['_timestamp']\n",
    "# #       print(f'Loaded checkpoint from {age:.0f} seconds ago.')\n",
    "\n",
    "# data = load(filename = \"logdir/Cyl/First_Test/events.out.tfevents.1717606486.cx3-1-0.cx3.hpc.ic.ac.uk.2498444.0.v2\")\n",
    "# print(data.keys())"
   ]
  },
  {
   "cell_type": "code",
   "execution_count": 4,
   "metadata": {},
   "outputs": [
    {
     "name": "stderr",
     "output_type": "stream",
     "text": [
      "2024-06-11 00:16:41.307552: I tensorflow/core/platform/cpu_feature_guard.cc:210] This TensorFlow binary is optimized to use available CPU instructions in performance-critical operations.\n",
      "To enable the following instructions: AVX2 FMA, in other operations, rebuild TensorFlow with the appropriate compiler flags.\n",
      "2024-06-11 00:16:47.486506: W tensorflow/compiler/tf2tensorrt/utils/py_utils.cc:38] TF-TRT Warning: Could not find TensorRT\n"
     ]
    },
    {
     "name": "stdout",
     "output_type": "stream",
     "text": [
      "Reading config\n",
      "Reading config\n",
      "confid jax.platform:  cpu\n"
     ]
    }
   ],
   "source": [
    "import warnings\n",
    "import dreamerv3\n",
    "from dreamerv3 import embodied\n",
    "warnings.filterwarnings('ignore', '.*truncated to dtype int32.*')\n",
    "\n",
    "print(\"Reading config\", flush =True)\n",
    "\n",
    "# See configs.yaml for all options.\n",
    "import warnings\n",
    "import dreamerv3\n",
    "from dreamerv3 import embodied\n",
    "warnings.filterwarnings('ignore', '.*truncated to dtype int32.*')\n",
    "\n",
    "print(\"Reading config\", flush =True)\n",
    "# See configs.yaml for all options.\n",
    "config = embodied.Config(dreamerv3.configs['defaults'])\n",
    "config = config.update(dreamerv3.configs['small'])\n",
    "config = config.update({\n",
    "'logdir': '~/PhD_projects2/dreamer_flows/dreamer/logdir/Cyl/First_Test',\n",
    "'run.train_ratio': 32,\n",
    "'run.log_every': 30,  # seconds\n",
    "'run.from_checkpoint': \"logdir/Cyl/First_Test/checkpoint.ckpt\",\n",
    "'batch_size': 16,\n",
    "'batch_length': 8,\n",
    "'jax.prealloc': False,\n",
    "\n",
    "'encoder.mlp_keys': 'vector',\n",
    "#   'encoder.mlp_units': 512,\n",
    "\n",
    "'decoder.mlp_keys': 'vector',\n",
    "#   'decoder.mlp_units': 512,\n",
    "\n",
    "'encoder.cnn_keys': '$^',\n",
    "'decoder.cnn_keys': '$^',\n",
    "\n",
    "#   'reward_head.units': 512,\n",
    "#   'cont_head.units': 512,\n",
    "\n",
    "'model_opt.lr': 1e-4,\n",
    "\n",
    "'jax.platform': 'cpu',\n",
    "'wrapper.length': 0,\n",
    "\n",
    "\n",
    "# 'envs.amount': 8\n",
    "})\n",
    "\n",
    "# config = embodied.Flags(config).parse()\n",
    "\n",
    "logdir = embodied.Path(config.logdir)\n",
    "step = embodied.Counter()\n",
    "logger = embodied.Logger(step, [\n",
    "embodied.logger.TerminalOutput(),\n",
    "embodied.logger.JSONLOutput(logdir, 'metrics.jsonl'),\n",
    "embodied.logger.TensorBoardOutput(logdir),\n",
    "\n",
    "])\n",
    "\n",
    "print(\"confid jax.platform: \", config.jax.platform)"
   ]
  },
  {
   "cell_type": "code",
   "execution_count": 5,
   "metadata": {},
   "outputs": [
    {
     "name": "stderr",
     "output_type": "stream",
     "text": [
      "--------------------------------------------------------------------------\n",
      "No OpenFabrics connection schemes reported that they were able to be\n",
      "used on a specific port.  As such, the openib BTL (OpenFabrics\n",
      "support) will be disabled for this port.\n",
      "\n",
      "  Local host:           cx3-1-29\n",
      "  Local device:         mlx5_0\n",
      "  Local port:           1\n",
      "  CPCs attempted:       rdmacm, udcm\n",
      "--------------------------------------------------------------------------\n",
      "bash: which: line 1: syntax error: unexpected end of file\n",
      "bash: error importing function definition for `which'\n",
      "bash: module: line 1: syntax error: unexpected end of file\n",
      "bash: error importing function definition for `module'\n",
      "bash: scl: line 1: syntax error: unexpected end of file\n",
      "bash: error importing function definition for `scl'\n",
      "bash: ml: line 1: syntax error: unexpected end of file\n",
      "bash: error importing function definition for `ml'\n",
      "bash: which: line 1: syntax error: unexpected end of file\n",
      "bash: error importing function definition for `which'\n",
      "bash: module: line 1: syntax error: unexpected end of file\n",
      "bash: error importing function definition for `module'\n",
      "bash: scl: line 1: syntax error: unexpected end of file\n",
      "bash: error importing function definition for `scl'\n",
      "bash: ml: line 1: syntax error: unexpected end of file\n",
      "bash: error importing function definition for `ml'\n"
     ]
    },
    {
     "name": "stdout",
     "output_type": "stream",
     "text": [
      "iUFL can be obtained from https://github.com/MiroK/ufl-interpreter\n",
      "Setting Up Environment\n",
      "Number of probes: 64\n",
      "test cwd env:  /rds/general/user/pg221/home/PhD_projects2/dreamer_flows/dreamer\n",
      "Simulated 1215 iterations before starting the control\n",
      "--- done buffers initialisation ---\n",
      "wrapping env\n",
      "batching env\n",
      "environment has been set\n",
      "Encoder CNN shapes: {}\n",
      "Encoder MLP shapes: {'vector': (66,)}\n",
      "Decoder CNN shapes: {}\n",
      "Decoder MLP shapes: {'vector': (66,)}\n"
     ]
    },
    {
     "name": "stderr",
     "output_type": "stream",
     "text": [
      "2024-06-11 00:18:30.595789: E external/local_xla/xla/stream_executor/cuda/cuda_driver.cc:282] failed call to cuInit: CUDA_ERROR_NO_DEVICE: no CUDA-capable device is detected\n"
     ]
    },
    {
     "name": "stdout",
     "output_type": "stream",
     "text": [
      "JAX devices (1): [CpuDevice(id=0)]\n",
      "Policy devices: TFRT_CPU_0\n",
      "Train devices:  TFRT_CPU_0\n",
      "Tracing train function.\n",
      "Optimizer model_opt has 16,553,794 variables.\n",
      "Optimizer actor_opt has 1,052,676 variables.\n",
      "Optimizer critic_opt has 1,181,439 variables.\n",
      "agent has been created\n",
      "replay has been created\n",
      "args have been created\n"
     ]
    }
   ],
   "source": [
    "#   import crafter\n",
    "import gym\n",
    "from embodied.envs import from_gym\n",
    "\n",
    "from cyl.simulation_base.env import resume_env\n",
    "import numpy as np\n",
    "\n",
    "print(\"Setting Up Environment\", flush =True)\n",
    "sim_log_name = config.logdir.split(\"/\")[-1]\n",
    "env  = resume_env(plot=False, single_run=True, dump_CL=False, dump_vtu=100, sim_log_name = sim_log_name+\"test\")\n",
    "\n",
    "env = from_gym.FromGym(env, obs_key='vector')  # Or obs_key='vector'.\n",
    "\n",
    "print(\"wrapping env\", flush =True)\n",
    "env = dreamerv3.wrap_env(env, config)\n",
    "\n",
    "print(\"batching env\", flush =True)\n",
    "env = embodied.BatchEnv([env], parallel=False)\n",
    "print(\"environment has been set\", flush =True)\n",
    "\n",
    "agent = dreamerv3.Agent(env.obs_space, env.act_space, step, config)\n",
    "print(\"agent has been created\", flush =True)\n",
    "\n",
    "replay = embodied.replay.Uniform(\n",
    "  config.batch_length, config.replay_size, logdir / 'replay')\n",
    "print(\"replay has been created\", flush =True)\n",
    "\n",
    "args = embodied.Config(\n",
    "  **config.run, logdir=config.logdir,\n",
    "  batch_steps=config.batch_size * config.batch_length)\n",
    "print(\"args have been created\", flush =True)"
   ]
  },
  {
   "cell_type": "markdown",
   "metadata": {},
   "source": [
    "Loading Checkpoint Model"
   ]
  },
  {
   "cell_type": "code",
   "execution_count": 6,
   "metadata": {},
   "outputs": [
    {
     "name": "stdout",
     "output_type": "stream",
     "text": [
      "Loading checkpoint: logdir/Cyl/First_Test/checkpoint.ckpt\n",
      "Loaded checkpoint from 196040 seconds ago.\n"
     ]
    }
   ],
   "source": [
    "checkpoint = embodied.Checkpoint()\n",
    "checkpoint.agent = agent\n",
    "checkpoint.load('logdir/Cyl/First_Test/checkpoint.ckpt', keys=['agent'])"
   ]
  },
  {
   "cell_type": "markdown",
   "metadata": {},
   "source": [
    "Evaluating model with the environment"
   ]
  },
  {
   "cell_type": "code",
   "execution_count": 7,
   "metadata": {},
   "outputs": [],
   "source": [
    "policy = lambda *args: agent.policy(*args, mode='eval')"
   ]
  },
  {
   "cell_type": "code",
   "execution_count": 8,
   "metadata": {},
   "outputs": [
    {
     "name": "stdout",
     "output_type": "stream",
     "text": [
      "[ True]\n"
     ]
    }
   ],
   "source": [
    "from embodied.core.basics import convert\n",
    "import collections\n",
    "\n",
    "#initializing actions\n",
    "\n",
    "_acts = {k: convert(np.zeros((len(env),) + v.shape, v.dtype))\n",
    "        for k, v in env.act_space.items()}\n",
    "_acts['reset'] = np.ones(len(env), bool)\n",
    "_eps = [collections.defaultdict(list) for _ in range(len(env))]\n",
    "_state = None\n",
    "\n",
    "\n",
    "print(np.ones(len(env), bool))"
   ]
  },
  {
   "cell_type": "code",
   "execution_count": 9,
   "metadata": {},
   "outputs": [
    {
     "name": "stderr",
     "output_type": "stream",
     "text": [
      "  0%|          | 0/200 [00:00<?, ?it/s]"
     ]
    },
    {
     "name": "stdout",
     "output_type": "stream",
     "text": [
      "Number of probes: 64\n",
      "test cwd env:  /rds/general/user/pg221/home/PhD_projects2/dreamer_flows/dreamer\n",
      "Simulated 727 iterations before starting the control\n",
      "Tracing policy function.\n",
      "Tracing policy function.\n"
     ]
    },
    {
     "name": "stderr",
     "output_type": "stream",
     "text": [
      "100%|██████████| 200/200 [15:04<00:00,  4.52s/it]\n"
     ]
    }
   ],
   "source": [
    "from tqdm import tqdm\n",
    "obs_total = [] \n",
    "acts_total = []\n",
    "control_time = 200\n",
    "# acts['reset'] = [True]\n",
    "# obs = env.reset()\n",
    "for i in tqdm(range(control_time)):\n",
    "    #take a step\n",
    "    assert all(len(x) == len(env) for x in _acts.values())\n",
    "    acts = {k: v for k, v in _acts.items() if not k.startswith('log_')}\n",
    "    obs  = env.step(acts)\n",
    "\n",
    "    #read observation\n",
    "    obs = {k: convert(v) for k, v in obs.items()}\n",
    "    assert all(len(x) == len(env) for x in obs.values()), obs\n",
    "    acts, _state = policy(obs, _state)\n",
    "    acts = {k: convert(v) for k, v in acts.items()}\n",
    "    \n",
    "    acts['reset'] = obs['is_last'].copy()\n",
    "    _acts = acts\n",
    "    acts_total.append(acts)\n",
    "#     print(f\"{i}: obs: \", obs)\n",
    "    obs_total.append(obs)\n",
    "    "
   ]
  },
  {
   "cell_type": "code",
   "execution_count": 29,
   "metadata": {},
   "outputs": [
    {
     "name": "stdout",
     "output_type": "stream",
     "text": [
      "obs_data shape:  (400, 66)\n",
      "obs_reward shape:  (400,)\n",
      "acts_data shape:  (400, 2)\n"
     ]
    }
   ],
   "source": [
    "#Collecting Reward and observations\n",
    "import matplotlib.pyplot as plt\n",
    "\n",
    "obs_data = obs_total[0]['vector']\n",
    "obs_reward = obs_total[0]['reward']\n",
    "acts_data = acts_total[0]['action']\n",
    "for i in range(1,control_time):\n",
    "    obs_data   = np.concatenate((obs_data  , obs_total[i]['vector']), axis = 0)\n",
    "    obs_reward = np.concatenate((obs_reward, obs_total[i]['reward']), axis = 0)\n",
    "    acts_data  = np.concatenate((acts_data , acts_total[i]['action']) , axis = 0)\n",
    "\n",
    "# total_obs_data = np.concatenate((u_hist, obs_data), axis = 0)\n",
    "\n",
    "print(\"obs_data shape: \", obs_data.shape)\n",
    "# print(\"total_obs_data shape: \", total_obs_data.shape)\n",
    "print(\"obs_reward shape: \", obs_reward.shape)\n",
    "print(\"acts_data shape: \", acts_data.shape)"
   ]
  },
  {
   "cell_type": "code",
   "execution_count": 27,
   "metadata": {},
   "outputs": [
    {
     "data": {
      "text/plain": [
       "[<matplotlib.lines.Line2D at 0x150f019ff6d0>]"
      ]
     },
     "execution_count": 27,
     "metadata": {},
     "output_type": "execute_result"
    },
    {
     "data": {
      "image/png": "[encoded data removed]",
      "text/plain": [
       "<Figure size 640x480 with 1 Axes>"
      ]
     },
     "metadata": {},
     "output_type": "display_data"
    },
    {
     "data": {
      "image/png": "[encoded data removed]",
      "text/plain": [
       "<Figure size 640x480 with 1 Axes>"
      ]
     },
     "metadata": {},
     "output_type": "display_data"
    },
    {
     "data": {
      "image/png": "[encoded data removed]",
      "text/plain": [
       "<Figure size 640x480 with 1 Axes>"
      ]
     },
     "metadata": {},
     "output_type": "display_data"
    }
   ],
   "source": [
    "plt.figure()\n",
    "action_step_dt = 0.25\n",
    "plt.plot(np.arange(acts_data.shape[0])*action_step_dt,acts_data)\n",
    "plt.grid()\n",
    "plt.xlabel(\"t\")\n",
    "plt.ylabel(\"Actions\")\n",
    "\n",
    "plt.figure()\n",
    "plt.hist(acts_data.flatten())\n",
    "\n",
    "plt.figure()\n",
    "from scipy.stats import norm\n",
    "mu, std = norm.fit(acts_data.flatten())\n",
    "\n",
    "# Generate points on the x-axis\n",
    "xmin = acts_data.flatten().min() - 3 * std\n",
    "xmax = acts_data.flatten().max() + 3 * std\n",
    "x = np.linspace(xmin, xmax, 100)\n",
    "\n",
    "# Generate the PDF values\n",
    "p = norm.pdf(x, mu, std)\n",
    "\n",
    "# Plot the PDF curve\n",
    "plt.plot(x, p, 'k', linewidth=2)"
   ]
  },
  {
   "cell_type": "code",
   "execution_count": null,
   "metadata": {},
   "outputs": [],
   "source": []
  }
 ],
 "metadata": {
  "kernelspec": {
   "display_name": "Python [conda env:dreamer_cyl2]",
   "language": "python",
   "name": "conda-env-dreamer_cyl2-py"
  },
  "language_info": {
   "codemirror_mode": {
    "name": "ipython",
    "version": 3
   },
   "file_extension": ".py",
   "mimetype": "text/x-python",
   "name": "python",
   "nbconvert_exporter": "python",
   "pygments_lexer": "ipython3",
   "version": "3.10.6"
  }
 },
 "nbformat": 4,
 "nbformat_minor": 2
}
