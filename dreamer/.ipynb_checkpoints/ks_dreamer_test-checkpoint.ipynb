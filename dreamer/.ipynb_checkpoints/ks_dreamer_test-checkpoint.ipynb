{
 "cells": [
  {
   "cell_type": "code",
   "execution_count": 3,
   "metadata": {},
   "outputs": [
    {
     "name": "stdout",
     "output_type": "stream",
     "text": [
      "Setting Up Environment\n",
      "Number of probes: 64\n",
      "test cwd env:  /rds/general/user/pg221/home/PhD_projects2/dreamer_flows/cyl\n",
      "Simulated 156 iterations before starting the control\n",
      "--- done buffers initialisation ---\n"
     ]
    }
   ],
   "source": [
    "from simulation_base.env import resume_env\n",
    "import numpy as np\n",
    "\n",
    "print(\"Setting Up Environment\", flush =True)\n",
    "env  = resume_env(plot=False, dump_CL=False, dump_vtu=False, dump_debug=False)\n",
    "\n",
    "\n"
   ]
  },
  {
   "cell_type": "code",
   "execution_count": 3,
   "metadata": {},
   "outputs": [
    {
     "name": "stdout",
     "output_type": "stream",
     "text": [
      "50\n"
     ]
    }
   ],
   "source": [
    "print(env.number_steps_execution)"
   ]
  },
  {
   "cell_type": "code",
   "execution_count": null,
   "metadata": {},
   "outputs": [],
   "source": []
  }
 ],
 "metadata": {
  "kernelspec": {
   "display_name": "Python [conda env:RLf2]",
   "language": "python",
   "name": "conda-env-RLf2-py"
  },
  "language_info": {
   "codemirror_mode": {
    "name": "ipython",
    "version": 3
   },
   "file_extension": ".py",
   "mimetype": "text/x-python",
   "name": "python",
   "nbconvert_exporter": "python",
   "pygments_lexer": "ipython3",
   "version": "3.10.6"
  }
 },
 "nbformat": 4,
 "nbformat_minor": 2
}
